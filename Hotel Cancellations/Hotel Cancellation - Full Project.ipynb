{
 "cells": [
  {
   "cell_type": "markdown",
   "metadata": {},
   "source": [
    "# Creating a model to predict hotel cancellation"
   ]
  },
  {
   "cell_type": "markdown",
   "metadata": {},
   "source": [
    "# * * * My First Project: predicting hotel cancellation * * *"
   ]
  },
  {
   "cell_type": "markdown",
   "metadata": {},
   "source": [
    "#### Project problem and Process\n",
    "\n",
    "Given a customer profile, is it possible to predict whether they're likely to cancel their upcoming bookings? To address this problem, the following process will be applied:\n",
    "\n",
    "1. Conduct Exploratory Data Analysis\n",
    "\n",
    "    To discover underlying trend that currently exists within booking data, including information such as customer profile.\n",
    "    \n",
    "\n",
    "2. Data Cleanse and Preprocessing\n",
    "\n",
    "    Transform raw data to a format suitable for the modelling process.\n",
    "    \n",
    "\n",
    "3. Develop Bi-Predict Model\n",
    "\n",
    "    This stage would apply suitable model(s) that can predict cancellation."
   ]
  },
  {
   "cell_type": "markdown",
   "metadata": {},
   "source": [
    "## Importing the relevant libraries"
   ]
  },
  {
   "cell_type": "code",
   "execution_count": 1,
   "metadata": {},
   "outputs": [],
   "source": [
    "import numpy as np\n",
    "import pandas as pd\n",
    "import statsmodels.api as sm\n",
    "import matplotlib.pyplot as plt\n",
    "import seaborn as sns\n",
    "sns.set()"
   ]
  },
  {
   "cell_type": "markdown",
   "metadata": {},
   "source": [
    "## Loading the raw data"
   ]
  },
  {
   "cell_type": "code",
   "execution_count": 2,
   "metadata": {},
   "outputs": [
    {
     "data": {
      "text/html": [
       "<div>\n",
       "<style scoped>\n",
       "    .dataframe tbody tr th:only-of-type {\n",
       "        vertical-align: middle;\n",
       "    }\n",
       "\n",
       "    .dataframe tbody tr th {\n",
       "        vertical-align: top;\n",
       "    }\n",
       "\n",
       "    .dataframe thead th {\n",
       "        text-align: right;\n",
       "    }\n",
       "</style>\n",
       "<table border=\"1\" class=\"dataframe\">\n",
       "  <thead>\n",
       "    <tr style=\"text-align: right;\">\n",
       "      <th></th>\n",
       "      <th>hotel</th>\n",
       "      <th>is_canceled</th>\n",
       "      <th>lead_time</th>\n",
       "      <th>arrival_date_year</th>\n",
       "      <th>arrival_date_month</th>\n",
       "      <th>arrival_date_week_number</th>\n",
       "      <th>arrival_date_day_of_month</th>\n",
       "      <th>stays_in_weekend_nights</th>\n",
       "      <th>stays_in_week_nights</th>\n",
       "      <th>adults</th>\n",
       "      <th>...</th>\n",
       "      <th>customer_type</th>\n",
       "      <th>adr</th>\n",
       "      <th>required_car_parking_spaces</th>\n",
       "      <th>total_of_special_requests</th>\n",
       "      <th>reservation_status</th>\n",
       "      <th>reservation_status_date</th>\n",
       "      <th>Arrival_Date</th>\n",
       "      <th>Country_Name</th>\n",
       "      <th>Region</th>\n",
       "      <th>Region_Name</th>\n",
       "    </tr>\n",
       "  </thead>\n",
       "  <tbody>\n",
       "    <tr>\n",
       "      <th>0</th>\n",
       "      <td>Resort Hotel</td>\n",
       "      <td>0</td>\n",
       "      <td>342</td>\n",
       "      <td>2015</td>\n",
       "      <td>July</td>\n",
       "      <td>27</td>\n",
       "      <td>1</td>\n",
       "      <td>0</td>\n",
       "      <td>0</td>\n",
       "      <td>2</td>\n",
       "      <td>...</td>\n",
       "      <td>Transient</td>\n",
       "      <td>0.0</td>\n",
       "      <td>0</td>\n",
       "      <td>0</td>\n",
       "      <td>Check-Out</td>\n",
       "      <td>01/07/2015</td>\n",
       "      <td>01/07/2015</td>\n",
       "      <td>Portugal</td>\n",
       "      <td>Europe</td>\n",
       "      <td>Southern Europe</td>\n",
       "    </tr>\n",
       "    <tr>\n",
       "      <th>1</th>\n",
       "      <td>Resort Hotel</td>\n",
       "      <td>0</td>\n",
       "      <td>737</td>\n",
       "      <td>2015</td>\n",
       "      <td>July</td>\n",
       "      <td>27</td>\n",
       "      <td>1</td>\n",
       "      <td>0</td>\n",
       "      <td>0</td>\n",
       "      <td>2</td>\n",
       "      <td>...</td>\n",
       "      <td>Transient</td>\n",
       "      <td>0.0</td>\n",
       "      <td>0</td>\n",
       "      <td>0</td>\n",
       "      <td>Check-Out</td>\n",
       "      <td>01/07/2015</td>\n",
       "      <td>01/07/2015</td>\n",
       "      <td>Portugal</td>\n",
       "      <td>Europe</td>\n",
       "      <td>Southern Europe</td>\n",
       "    </tr>\n",
       "    <tr>\n",
       "      <th>2</th>\n",
       "      <td>Resort Hotel</td>\n",
       "      <td>0</td>\n",
       "      <td>7</td>\n",
       "      <td>2015</td>\n",
       "      <td>July</td>\n",
       "      <td>27</td>\n",
       "      <td>1</td>\n",
       "      <td>0</td>\n",
       "      <td>1</td>\n",
       "      <td>1</td>\n",
       "      <td>...</td>\n",
       "      <td>Transient</td>\n",
       "      <td>75.0</td>\n",
       "      <td>0</td>\n",
       "      <td>0</td>\n",
       "      <td>Check-Out</td>\n",
       "      <td>02/07/2015</td>\n",
       "      <td>01/07/2015</td>\n",
       "      <td>United Kingdom of Great Britain and Northern I...</td>\n",
       "      <td>Europe</td>\n",
       "      <td>Northern Europe</td>\n",
       "    </tr>\n",
       "    <tr>\n",
       "      <th>3</th>\n",
       "      <td>Resort Hotel</td>\n",
       "      <td>0</td>\n",
       "      <td>13</td>\n",
       "      <td>2015</td>\n",
       "      <td>July</td>\n",
       "      <td>27</td>\n",
       "      <td>1</td>\n",
       "      <td>0</td>\n",
       "      <td>1</td>\n",
       "      <td>1</td>\n",
       "      <td>...</td>\n",
       "      <td>Transient</td>\n",
       "      <td>75.0</td>\n",
       "      <td>0</td>\n",
       "      <td>0</td>\n",
       "      <td>Check-Out</td>\n",
       "      <td>02/07/2015</td>\n",
       "      <td>01/07/2015</td>\n",
       "      <td>United Kingdom of Great Britain and Northern I...</td>\n",
       "      <td>Europe</td>\n",
       "      <td>Northern Europe</td>\n",
       "    </tr>\n",
       "    <tr>\n",
       "      <th>4</th>\n",
       "      <td>Resort Hotel</td>\n",
       "      <td>0</td>\n",
       "      <td>14</td>\n",
       "      <td>2015</td>\n",
       "      <td>July</td>\n",
       "      <td>27</td>\n",
       "      <td>1</td>\n",
       "      <td>0</td>\n",
       "      <td>2</td>\n",
       "      <td>2</td>\n",
       "      <td>...</td>\n",
       "      <td>Transient</td>\n",
       "      <td>98.0</td>\n",
       "      <td>0</td>\n",
       "      <td>1</td>\n",
       "      <td>Check-Out</td>\n",
       "      <td>03/07/2015</td>\n",
       "      <td>01/07/2015</td>\n",
       "      <td>United Kingdom of Great Britain and Northern I...</td>\n",
       "      <td>Europe</td>\n",
       "      <td>Northern Europe</td>\n",
       "    </tr>\n",
       "  </tbody>\n",
       "</table>\n",
       "<p>5 rows × 36 columns</p>\n",
       "</div>"
      ],
      "text/plain": [
       "          hotel  is_canceled  lead_time  arrival_date_year arrival_date_month  \\\n",
       "0  Resort Hotel            0        342               2015               July   \n",
       "1  Resort Hotel            0        737               2015               July   \n",
       "2  Resort Hotel            0          7               2015               July   \n",
       "3  Resort Hotel            0         13               2015               July   \n",
       "4  Resort Hotel            0         14               2015               July   \n",
       "\n",
       "   arrival_date_week_number  arrival_date_day_of_month  \\\n",
       "0                        27                          1   \n",
       "1                        27                          1   \n",
       "2                        27                          1   \n",
       "3                        27                          1   \n",
       "4                        27                          1   \n",
       "\n",
       "   stays_in_weekend_nights  stays_in_week_nights  adults  ...  customer_type  \\\n",
       "0                        0                     0       2  ...      Transient   \n",
       "1                        0                     0       2  ...      Transient   \n",
       "2                        0                     1       1  ...      Transient   \n",
       "3                        0                     1       1  ...      Transient   \n",
       "4                        0                     2       2  ...      Transient   \n",
       "\n",
       "    adr required_car_parking_spaces total_of_special_requests  \\\n",
       "0   0.0                           0                         0   \n",
       "1   0.0                           0                         0   \n",
       "2  75.0                           0                         0   \n",
       "3  75.0                           0                         0   \n",
       "4  98.0                           0                         1   \n",
       "\n",
       "  reservation_status reservation_status_date  Arrival_Date  \\\n",
       "0          Check-Out              01/07/2015    01/07/2015   \n",
       "1          Check-Out              01/07/2015    01/07/2015   \n",
       "2          Check-Out              02/07/2015    01/07/2015   \n",
       "3          Check-Out              02/07/2015    01/07/2015   \n",
       "4          Check-Out              03/07/2015    01/07/2015   \n",
       "\n",
       "                                        Country_Name  Region      Region_Name  \n",
       "0                                           Portugal  Europe  Southern Europe  \n",
       "1                                           Portugal  Europe  Southern Europe  \n",
       "2  United Kingdom of Great Britain and Northern I...  Europe  Northern Europe  \n",
       "3  United Kingdom of Great Britain and Northern I...  Europe  Northern Europe  \n",
       "4  United Kingdom of Great Britain and Northern I...  Europe  Northern Europe  \n",
       "\n",
       "[5 rows x 36 columns]"
      ]
     },
     "execution_count": 2,
     "metadata": {},
     "output_type": "execute_result"
    }
   ],
   "source": [
    "raw_data = pd.read_csv('hotel_bookings.csv')\n",
    "raw_data.head()"
   ]
  },
  {
   "cell_type": "markdown",
   "metadata": {},
   "source": [
    "#  "
   ]
  },
  {
   "cell_type": "markdown",
   "metadata": {},
   "source": [
    "# 1. Exploratory Data Analysis"
   ]
  },
  {
   "cell_type": "markdown",
   "metadata": {},
   "source": [
    " "
   ]
  },
  {
   "cell_type": "code",
   "execution_count": 3,
   "metadata": {
    "scrolled": true
   },
   "outputs": [
    {
     "data": {
      "text/html": [
       "<div>\n",
       "<style scoped>\n",
       "    .dataframe tbody tr th:only-of-type {\n",
       "        vertical-align: middle;\n",
       "    }\n",
       "\n",
       "    .dataframe tbody tr th {\n",
       "        vertical-align: top;\n",
       "    }\n",
       "\n",
       "    .dataframe thead th {\n",
       "        text-align: right;\n",
       "    }\n",
       "</style>\n",
       "<table border=\"1\" class=\"dataframe\">\n",
       "  <thead>\n",
       "    <tr style=\"text-align: right;\">\n",
       "      <th></th>\n",
       "      <th>count</th>\n",
       "      <th>unique</th>\n",
       "      <th>top</th>\n",
       "      <th>freq</th>\n",
       "      <th>mean</th>\n",
       "      <th>std</th>\n",
       "      <th>min</th>\n",
       "      <th>25%</th>\n",
       "      <th>50%</th>\n",
       "      <th>75%</th>\n",
       "      <th>max</th>\n",
       "    </tr>\n",
       "  </thead>\n",
       "  <tbody>\n",
       "    <tr>\n",
       "      <th>hotel</th>\n",
       "      <td>119390</td>\n",
       "      <td>2</td>\n",
       "      <td>City Hotel</td>\n",
       "      <td>79330</td>\n",
       "      <td>NaN</td>\n",
       "      <td>NaN</td>\n",
       "      <td>NaN</td>\n",
       "      <td>NaN</td>\n",
       "      <td>NaN</td>\n",
       "      <td>NaN</td>\n",
       "      <td>NaN</td>\n",
       "    </tr>\n",
       "    <tr>\n",
       "      <th>is_canceled</th>\n",
       "      <td>119390</td>\n",
       "      <td>NaN</td>\n",
       "      <td>NaN</td>\n",
       "      <td>NaN</td>\n",
       "      <td>0.370416</td>\n",
       "      <td>0.482918</td>\n",
       "      <td>0</td>\n",
       "      <td>0</td>\n",
       "      <td>0</td>\n",
       "      <td>1</td>\n",
       "      <td>1</td>\n",
       "    </tr>\n",
       "    <tr>\n",
       "      <th>lead_time</th>\n",
       "      <td>119390</td>\n",
       "      <td>NaN</td>\n",
       "      <td>NaN</td>\n",
       "      <td>NaN</td>\n",
       "      <td>104.011</td>\n",
       "      <td>106.863</td>\n",
       "      <td>0</td>\n",
       "      <td>18</td>\n",
       "      <td>69</td>\n",
       "      <td>160</td>\n",
       "      <td>737</td>\n",
       "    </tr>\n",
       "    <tr>\n",
       "      <th>arrival_date_year</th>\n",
       "      <td>119390</td>\n",
       "      <td>NaN</td>\n",
       "      <td>NaN</td>\n",
       "      <td>NaN</td>\n",
       "      <td>2016.16</td>\n",
       "      <td>0.707476</td>\n",
       "      <td>2015</td>\n",
       "      <td>2016</td>\n",
       "      <td>2016</td>\n",
       "      <td>2017</td>\n",
       "      <td>2017</td>\n",
       "    </tr>\n",
       "    <tr>\n",
       "      <th>arrival_date_month</th>\n",
       "      <td>119390</td>\n",
       "      <td>12</td>\n",
       "      <td>August</td>\n",
       "      <td>13877</td>\n",
       "      <td>NaN</td>\n",
       "      <td>NaN</td>\n",
       "      <td>NaN</td>\n",
       "      <td>NaN</td>\n",
       "      <td>NaN</td>\n",
       "      <td>NaN</td>\n",
       "      <td>NaN</td>\n",
       "    </tr>\n",
       "    <tr>\n",
       "      <th>arrival_date_week_number</th>\n",
       "      <td>119390</td>\n",
       "      <td>NaN</td>\n",
       "      <td>NaN</td>\n",
       "      <td>NaN</td>\n",
       "      <td>27.1652</td>\n",
       "      <td>13.6051</td>\n",
       "      <td>1</td>\n",
       "      <td>16</td>\n",
       "      <td>28</td>\n",
       "      <td>38</td>\n",
       "      <td>53</td>\n",
       "    </tr>\n",
       "    <tr>\n",
       "      <th>arrival_date_day_of_month</th>\n",
       "      <td>119390</td>\n",
       "      <td>NaN</td>\n",
       "      <td>NaN</td>\n",
       "      <td>NaN</td>\n",
       "      <td>15.7982</td>\n",
       "      <td>8.78083</td>\n",
       "      <td>1</td>\n",
       "      <td>8</td>\n",
       "      <td>16</td>\n",
       "      <td>23</td>\n",
       "      <td>31</td>\n",
       "    </tr>\n",
       "    <tr>\n",
       "      <th>stays_in_weekend_nights</th>\n",
       "      <td>119390</td>\n",
       "      <td>NaN</td>\n",
       "      <td>NaN</td>\n",
       "      <td>NaN</td>\n",
       "      <td>0.927599</td>\n",
       "      <td>0.998613</td>\n",
       "      <td>0</td>\n",
       "      <td>0</td>\n",
       "      <td>1</td>\n",
       "      <td>2</td>\n",
       "      <td>19</td>\n",
       "    </tr>\n",
       "    <tr>\n",
       "      <th>stays_in_week_nights</th>\n",
       "      <td>119390</td>\n",
       "      <td>NaN</td>\n",
       "      <td>NaN</td>\n",
       "      <td>NaN</td>\n",
       "      <td>2.5003</td>\n",
       "      <td>1.90829</td>\n",
       "      <td>0</td>\n",
       "      <td>1</td>\n",
       "      <td>2</td>\n",
       "      <td>3</td>\n",
       "      <td>50</td>\n",
       "    </tr>\n",
       "    <tr>\n",
       "      <th>adults</th>\n",
       "      <td>119390</td>\n",
       "      <td>NaN</td>\n",
       "      <td>NaN</td>\n",
       "      <td>NaN</td>\n",
       "      <td>1.8564</td>\n",
       "      <td>0.579261</td>\n",
       "      <td>0</td>\n",
       "      <td>2</td>\n",
       "      <td>2</td>\n",
       "      <td>2</td>\n",
       "      <td>55</td>\n",
       "    </tr>\n",
       "    <tr>\n",
       "      <th>children</th>\n",
       "      <td>119386</td>\n",
       "      <td>NaN</td>\n",
       "      <td>NaN</td>\n",
       "      <td>NaN</td>\n",
       "      <td>0.10389</td>\n",
       "      <td>0.398561</td>\n",
       "      <td>0</td>\n",
       "      <td>0</td>\n",
       "      <td>0</td>\n",
       "      <td>0</td>\n",
       "      <td>10</td>\n",
       "    </tr>\n",
       "    <tr>\n",
       "      <th>babies</th>\n",
       "      <td>119390</td>\n",
       "      <td>NaN</td>\n",
       "      <td>NaN</td>\n",
       "      <td>NaN</td>\n",
       "      <td>0.00794874</td>\n",
       "      <td>0.0974362</td>\n",
       "      <td>0</td>\n",
       "      <td>0</td>\n",
       "      <td>0</td>\n",
       "      <td>0</td>\n",
       "      <td>10</td>\n",
       "    </tr>\n",
       "    <tr>\n",
       "      <th>meal</th>\n",
       "      <td>119390</td>\n",
       "      <td>5</td>\n",
       "      <td>BB</td>\n",
       "      <td>92310</td>\n",
       "      <td>NaN</td>\n",
       "      <td>NaN</td>\n",
       "      <td>NaN</td>\n",
       "      <td>NaN</td>\n",
       "      <td>NaN</td>\n",
       "      <td>NaN</td>\n",
       "      <td>NaN</td>\n",
       "    </tr>\n",
       "    <tr>\n",
       "      <th>country</th>\n",
       "      <td>118902</td>\n",
       "      <td>177</td>\n",
       "      <td>PRT</td>\n",
       "      <td>48590</td>\n",
       "      <td>NaN</td>\n",
       "      <td>NaN</td>\n",
       "      <td>NaN</td>\n",
       "      <td>NaN</td>\n",
       "      <td>NaN</td>\n",
       "      <td>NaN</td>\n",
       "      <td>NaN</td>\n",
       "    </tr>\n",
       "    <tr>\n",
       "      <th>market_segment</th>\n",
       "      <td>119390</td>\n",
       "      <td>8</td>\n",
       "      <td>Online TA</td>\n",
       "      <td>56477</td>\n",
       "      <td>NaN</td>\n",
       "      <td>NaN</td>\n",
       "      <td>NaN</td>\n",
       "      <td>NaN</td>\n",
       "      <td>NaN</td>\n",
       "      <td>NaN</td>\n",
       "      <td>NaN</td>\n",
       "    </tr>\n",
       "    <tr>\n",
       "      <th>distribution_channel</th>\n",
       "      <td>119390</td>\n",
       "      <td>5</td>\n",
       "      <td>TA/TO</td>\n",
       "      <td>97870</td>\n",
       "      <td>NaN</td>\n",
       "      <td>NaN</td>\n",
       "      <td>NaN</td>\n",
       "      <td>NaN</td>\n",
       "      <td>NaN</td>\n",
       "      <td>NaN</td>\n",
       "      <td>NaN</td>\n",
       "    </tr>\n",
       "    <tr>\n",
       "      <th>is_repeated_guest</th>\n",
       "      <td>119390</td>\n",
       "      <td>NaN</td>\n",
       "      <td>NaN</td>\n",
       "      <td>NaN</td>\n",
       "      <td>0.0319122</td>\n",
       "      <td>0.175767</td>\n",
       "      <td>0</td>\n",
       "      <td>0</td>\n",
       "      <td>0</td>\n",
       "      <td>0</td>\n",
       "      <td>1</td>\n",
       "    </tr>\n",
       "    <tr>\n",
       "      <th>previous_cancellations</th>\n",
       "      <td>119390</td>\n",
       "      <td>NaN</td>\n",
       "      <td>NaN</td>\n",
       "      <td>NaN</td>\n",
       "      <td>0.0871178</td>\n",
       "      <td>0.844336</td>\n",
       "      <td>0</td>\n",
       "      <td>0</td>\n",
       "      <td>0</td>\n",
       "      <td>0</td>\n",
       "      <td>26</td>\n",
       "    </tr>\n",
       "    <tr>\n",
       "      <th>previous_bookings_not_canceled</th>\n",
       "      <td>119390</td>\n",
       "      <td>NaN</td>\n",
       "      <td>NaN</td>\n",
       "      <td>NaN</td>\n",
       "      <td>0.137097</td>\n",
       "      <td>1.49744</td>\n",
       "      <td>0</td>\n",
       "      <td>0</td>\n",
       "      <td>0</td>\n",
       "      <td>0</td>\n",
       "      <td>72</td>\n",
       "    </tr>\n",
       "    <tr>\n",
       "      <th>reserved_room_type</th>\n",
       "      <td>119390</td>\n",
       "      <td>10</td>\n",
       "      <td>A</td>\n",
       "      <td>85994</td>\n",
       "      <td>NaN</td>\n",
       "      <td>NaN</td>\n",
       "      <td>NaN</td>\n",
       "      <td>NaN</td>\n",
       "      <td>NaN</td>\n",
       "      <td>NaN</td>\n",
       "      <td>NaN</td>\n",
       "    </tr>\n",
       "    <tr>\n",
       "      <th>assigned_room_type</th>\n",
       "      <td>119390</td>\n",
       "      <td>12</td>\n",
       "      <td>A</td>\n",
       "      <td>74053</td>\n",
       "      <td>NaN</td>\n",
       "      <td>NaN</td>\n",
       "      <td>NaN</td>\n",
       "      <td>NaN</td>\n",
       "      <td>NaN</td>\n",
       "      <td>NaN</td>\n",
       "      <td>NaN</td>\n",
       "    </tr>\n",
       "    <tr>\n",
       "      <th>booking_changes</th>\n",
       "      <td>119390</td>\n",
       "      <td>NaN</td>\n",
       "      <td>NaN</td>\n",
       "      <td>NaN</td>\n",
       "      <td>0.221124</td>\n",
       "      <td>0.652306</td>\n",
       "      <td>0</td>\n",
       "      <td>0</td>\n",
       "      <td>0</td>\n",
       "      <td>0</td>\n",
       "      <td>21</td>\n",
       "    </tr>\n",
       "    <tr>\n",
       "      <th>deposit_type</th>\n",
       "      <td>119390</td>\n",
       "      <td>3</td>\n",
       "      <td>No Deposit</td>\n",
       "      <td>104641</td>\n",
       "      <td>NaN</td>\n",
       "      <td>NaN</td>\n",
       "      <td>NaN</td>\n",
       "      <td>NaN</td>\n",
       "      <td>NaN</td>\n",
       "      <td>NaN</td>\n",
       "      <td>NaN</td>\n",
       "    </tr>\n",
       "    <tr>\n",
       "      <th>agent</th>\n",
       "      <td>103050</td>\n",
       "      <td>NaN</td>\n",
       "      <td>NaN</td>\n",
       "      <td>NaN</td>\n",
       "      <td>86.6934</td>\n",
       "      <td>110.775</td>\n",
       "      <td>1</td>\n",
       "      <td>9</td>\n",
       "      <td>14</td>\n",
       "      <td>229</td>\n",
       "      <td>535</td>\n",
       "    </tr>\n",
       "    <tr>\n",
       "      <th>company</th>\n",
       "      <td>6797</td>\n",
       "      <td>NaN</td>\n",
       "      <td>NaN</td>\n",
       "      <td>NaN</td>\n",
       "      <td>189.267</td>\n",
       "      <td>131.655</td>\n",
       "      <td>6</td>\n",
       "      <td>62</td>\n",
       "      <td>179</td>\n",
       "      <td>270</td>\n",
       "      <td>543</td>\n",
       "    </tr>\n",
       "    <tr>\n",
       "      <th>days_in_waiting_list</th>\n",
       "      <td>119390</td>\n",
       "      <td>NaN</td>\n",
       "      <td>NaN</td>\n",
       "      <td>NaN</td>\n",
       "      <td>2.32115</td>\n",
       "      <td>17.5947</td>\n",
       "      <td>0</td>\n",
       "      <td>0</td>\n",
       "      <td>0</td>\n",
       "      <td>0</td>\n",
       "      <td>391</td>\n",
       "    </tr>\n",
       "    <tr>\n",
       "      <th>customer_type</th>\n",
       "      <td>119390</td>\n",
       "      <td>4</td>\n",
       "      <td>Transient</td>\n",
       "      <td>89613</td>\n",
       "      <td>NaN</td>\n",
       "      <td>NaN</td>\n",
       "      <td>NaN</td>\n",
       "      <td>NaN</td>\n",
       "      <td>NaN</td>\n",
       "      <td>NaN</td>\n",
       "      <td>NaN</td>\n",
       "    </tr>\n",
       "    <tr>\n",
       "      <th>adr</th>\n",
       "      <td>119390</td>\n",
       "      <td>NaN</td>\n",
       "      <td>NaN</td>\n",
       "      <td>NaN</td>\n",
       "      <td>101.831</td>\n",
       "      <td>50.5358</td>\n",
       "      <td>-6.38</td>\n",
       "      <td>69.29</td>\n",
       "      <td>94.575</td>\n",
       "      <td>126</td>\n",
       "      <td>5400</td>\n",
       "    </tr>\n",
       "    <tr>\n",
       "      <th>required_car_parking_spaces</th>\n",
       "      <td>119390</td>\n",
       "      <td>NaN</td>\n",
       "      <td>NaN</td>\n",
       "      <td>NaN</td>\n",
       "      <td>0.0625178</td>\n",
       "      <td>0.245291</td>\n",
       "      <td>0</td>\n",
       "      <td>0</td>\n",
       "      <td>0</td>\n",
       "      <td>0</td>\n",
       "      <td>8</td>\n",
       "    </tr>\n",
       "    <tr>\n",
       "      <th>total_of_special_requests</th>\n",
       "      <td>119390</td>\n",
       "      <td>NaN</td>\n",
       "      <td>NaN</td>\n",
       "      <td>NaN</td>\n",
       "      <td>0.571363</td>\n",
       "      <td>0.792798</td>\n",
       "      <td>0</td>\n",
       "      <td>0</td>\n",
       "      <td>0</td>\n",
       "      <td>1</td>\n",
       "      <td>5</td>\n",
       "    </tr>\n",
       "    <tr>\n",
       "      <th>reservation_status</th>\n",
       "      <td>119390</td>\n",
       "      <td>3</td>\n",
       "      <td>Check-Out</td>\n",
       "      <td>75166</td>\n",
       "      <td>NaN</td>\n",
       "      <td>NaN</td>\n",
       "      <td>NaN</td>\n",
       "      <td>NaN</td>\n",
       "      <td>NaN</td>\n",
       "      <td>NaN</td>\n",
       "      <td>NaN</td>\n",
       "    </tr>\n",
       "    <tr>\n",
       "      <th>reservation_status_date</th>\n",
       "      <td>119390</td>\n",
       "      <td>926</td>\n",
       "      <td>21/10/2015</td>\n",
       "      <td>1461</td>\n",
       "      <td>NaN</td>\n",
       "      <td>NaN</td>\n",
       "      <td>NaN</td>\n",
       "      <td>NaN</td>\n",
       "      <td>NaN</td>\n",
       "      <td>NaN</td>\n",
       "      <td>NaN</td>\n",
       "    </tr>\n",
       "    <tr>\n",
       "      <th>Arrival_Date</th>\n",
       "      <td>119390</td>\n",
       "      <td>793</td>\n",
       "      <td>05/12/2015</td>\n",
       "      <td>448</td>\n",
       "      <td>NaN</td>\n",
       "      <td>NaN</td>\n",
       "      <td>NaN</td>\n",
       "      <td>NaN</td>\n",
       "      <td>NaN</td>\n",
       "      <td>NaN</td>\n",
       "      <td>NaN</td>\n",
       "    </tr>\n",
       "    <tr>\n",
       "      <th>Country_Name</th>\n",
       "      <td>117620</td>\n",
       "      <td>175</td>\n",
       "      <td>Portugal</td>\n",
       "      <td>48590</td>\n",
       "      <td>NaN</td>\n",
       "      <td>NaN</td>\n",
       "      <td>NaN</td>\n",
       "      <td>NaN</td>\n",
       "      <td>NaN</td>\n",
       "      <td>NaN</td>\n",
       "      <td>NaN</td>\n",
       "    </tr>\n",
       "    <tr>\n",
       "      <th>Region</th>\n",
       "      <td>117618</td>\n",
       "      <td>5</td>\n",
       "      <td>Europe</td>\n",
       "      <td>107826</td>\n",
       "      <td>NaN</td>\n",
       "      <td>NaN</td>\n",
       "      <td>NaN</td>\n",
       "      <td>NaN</td>\n",
       "      <td>NaN</td>\n",
       "      <td>NaN</td>\n",
       "      <td>NaN</td>\n",
       "    </tr>\n",
       "    <tr>\n",
       "      <th>Region_Name</th>\n",
       "      <td>117618</td>\n",
       "      <td>17</td>\n",
       "      <td>Southern Europe</td>\n",
       "      <td>61394</td>\n",
       "      <td>NaN</td>\n",
       "      <td>NaN</td>\n",
       "      <td>NaN</td>\n",
       "      <td>NaN</td>\n",
       "      <td>NaN</td>\n",
       "      <td>NaN</td>\n",
       "      <td>NaN</td>\n",
       "    </tr>\n",
       "  </tbody>\n",
       "</table>\n",
       "</div>"
      ],
      "text/plain": [
       "                                 count unique              top    freq  \\\n",
       "hotel                           119390      2       City Hotel   79330   \n",
       "is_canceled                     119390    NaN              NaN     NaN   \n",
       "lead_time                       119390    NaN              NaN     NaN   \n",
       "arrival_date_year               119390    NaN              NaN     NaN   \n",
       "arrival_date_month              119390     12           August   13877   \n",
       "arrival_date_week_number        119390    NaN              NaN     NaN   \n",
       "arrival_date_day_of_month       119390    NaN              NaN     NaN   \n",
       "stays_in_weekend_nights         119390    NaN              NaN     NaN   \n",
       "stays_in_week_nights            119390    NaN              NaN     NaN   \n",
       "adults                          119390    NaN              NaN     NaN   \n",
       "children                        119386    NaN              NaN     NaN   \n",
       "babies                          119390    NaN              NaN     NaN   \n",
       "meal                            119390      5               BB   92310   \n",
       "country                         118902    177              PRT   48590   \n",
       "market_segment                  119390      8        Online TA   56477   \n",
       "distribution_channel            119390      5            TA/TO   97870   \n",
       "is_repeated_guest               119390    NaN              NaN     NaN   \n",
       "previous_cancellations          119390    NaN              NaN     NaN   \n",
       "previous_bookings_not_canceled  119390    NaN              NaN     NaN   \n",
       "reserved_room_type              119390     10                A   85994   \n",
       "assigned_room_type              119390     12                A   74053   \n",
       "booking_changes                 119390    NaN              NaN     NaN   \n",
       "deposit_type                    119390      3       No Deposit  104641   \n",
       "agent                           103050    NaN              NaN     NaN   \n",
       "company                           6797    NaN              NaN     NaN   \n",
       "days_in_waiting_list            119390    NaN              NaN     NaN   \n",
       "customer_type                   119390      4        Transient   89613   \n",
       "adr                             119390    NaN              NaN     NaN   \n",
       "required_car_parking_spaces     119390    NaN              NaN     NaN   \n",
       "total_of_special_requests       119390    NaN              NaN     NaN   \n",
       "reservation_status              119390      3        Check-Out   75166   \n",
       "reservation_status_date         119390    926       21/10/2015    1461   \n",
       "Arrival_Date                    119390    793       05/12/2015     448   \n",
       "Country_Name                    117620    175         Portugal   48590   \n",
       "Region                          117618      5           Europe  107826   \n",
       "Region_Name                     117618     17  Southern Europe   61394   \n",
       "\n",
       "                                      mean        std   min    25%     50%  \\\n",
       "hotel                                  NaN        NaN   NaN    NaN     NaN   \n",
       "is_canceled                       0.370416   0.482918     0      0       0   \n",
       "lead_time                          104.011    106.863     0     18      69   \n",
       "arrival_date_year                  2016.16   0.707476  2015   2016    2016   \n",
       "arrival_date_month                     NaN        NaN   NaN    NaN     NaN   \n",
       "arrival_date_week_number           27.1652    13.6051     1     16      28   \n",
       "arrival_date_day_of_month          15.7982    8.78083     1      8      16   \n",
       "stays_in_weekend_nights           0.927599   0.998613     0      0       1   \n",
       "stays_in_week_nights                2.5003    1.90829     0      1       2   \n",
       "adults                              1.8564   0.579261     0      2       2   \n",
       "children                           0.10389   0.398561     0      0       0   \n",
       "babies                          0.00794874  0.0974362     0      0       0   \n",
       "meal                                   NaN        NaN   NaN    NaN     NaN   \n",
       "country                                NaN        NaN   NaN    NaN     NaN   \n",
       "market_segment                         NaN        NaN   NaN    NaN     NaN   \n",
       "distribution_channel                   NaN        NaN   NaN    NaN     NaN   \n",
       "is_repeated_guest                0.0319122   0.175767     0      0       0   \n",
       "previous_cancellations           0.0871178   0.844336     0      0       0   \n",
       "previous_bookings_not_canceled    0.137097    1.49744     0      0       0   \n",
       "reserved_room_type                     NaN        NaN   NaN    NaN     NaN   \n",
       "assigned_room_type                     NaN        NaN   NaN    NaN     NaN   \n",
       "booking_changes                   0.221124   0.652306     0      0       0   \n",
       "deposit_type                           NaN        NaN   NaN    NaN     NaN   \n",
       "agent                              86.6934    110.775     1      9      14   \n",
       "company                            189.267    131.655     6     62     179   \n",
       "days_in_waiting_list               2.32115    17.5947     0      0       0   \n",
       "customer_type                          NaN        NaN   NaN    NaN     NaN   \n",
       "adr                                101.831    50.5358 -6.38  69.29  94.575   \n",
       "required_car_parking_spaces      0.0625178   0.245291     0      0       0   \n",
       "total_of_special_requests         0.571363   0.792798     0      0       0   \n",
       "reservation_status                     NaN        NaN   NaN    NaN     NaN   \n",
       "reservation_status_date                NaN        NaN   NaN    NaN     NaN   \n",
       "Arrival_Date                           NaN        NaN   NaN    NaN     NaN   \n",
       "Country_Name                           NaN        NaN   NaN    NaN     NaN   \n",
       "Region                                 NaN        NaN   NaN    NaN     NaN   \n",
       "Region_Name                            NaN        NaN   NaN    NaN     NaN   \n",
       "\n",
       "                                 75%   max  \n",
       "hotel                            NaN   NaN  \n",
       "is_canceled                        1     1  \n",
       "lead_time                        160   737  \n",
       "arrival_date_year               2017  2017  \n",
       "arrival_date_month               NaN   NaN  \n",
       "arrival_date_week_number          38    53  \n",
       "arrival_date_day_of_month         23    31  \n",
       "stays_in_weekend_nights            2    19  \n",
       "stays_in_week_nights               3    50  \n",
       "adults                             2    55  \n",
       "children                           0    10  \n",
       "babies                             0    10  \n",
       "meal                             NaN   NaN  \n",
       "country                          NaN   NaN  \n",
       "market_segment                   NaN   NaN  \n",
       "distribution_channel             NaN   NaN  \n",
       "is_repeated_guest                  0     1  \n",
       "previous_cancellations             0    26  \n",
       "previous_bookings_not_canceled     0    72  \n",
       "reserved_room_type               NaN   NaN  \n",
       "assigned_room_type               NaN   NaN  \n",
       "booking_changes                    0    21  \n",
       "deposit_type                     NaN   NaN  \n",
       "agent                            229   535  \n",
       "company                          270   543  \n",
       "days_in_waiting_list               0   391  \n",
       "customer_type                    NaN   NaN  \n",
       "adr                              126  5400  \n",
       "required_car_parking_spaces        0     8  \n",
       "total_of_special_requests          1     5  \n",
       "reservation_status               NaN   NaN  \n",
       "reservation_status_date          NaN   NaN  \n",
       "Arrival_Date                     NaN   NaN  \n",
       "Country_Name                     NaN   NaN  \n",
       "Region                           NaN   NaN  \n",
       "Region_Name                      NaN   NaN  "
      ]
     },
     "execution_count": 3,
     "metadata": {},
     "output_type": "execute_result"
    }
   ],
   "source": [
    "raw_data.describe(include='all').T"
   ]
  },
  {
   "cell_type": "code",
   "execution_count": 4,
   "metadata": {
    "scrolled": true
   },
   "outputs": [
    {
     "name": "stdout",
     "output_type": "stream",
     "text": [
      "<class 'pandas.core.frame.DataFrame'>\n",
      "RangeIndex: 119390 entries, 0 to 119389\n",
      "Data columns (total 36 columns):\n",
      " #   Column                          Non-Null Count   Dtype  \n",
      "---  ------                          --------------   -----  \n",
      " 0   hotel                           119390 non-null  object \n",
      " 1   is_canceled                     119390 non-null  int64  \n",
      " 2   lead_time                       119390 non-null  int64  \n",
      " 3   arrival_date_year               119390 non-null  int64  \n",
      " 4   arrival_date_month              119390 non-null  object \n",
      " 5   arrival_date_week_number        119390 non-null  int64  \n",
      " 6   arrival_date_day_of_month       119390 non-null  int64  \n",
      " 7   stays_in_weekend_nights         119390 non-null  int64  \n",
      " 8   stays_in_week_nights            119390 non-null  int64  \n",
      " 9   adults                          119390 non-null  int64  \n",
      " 10  children                        119386 non-null  float64\n",
      " 11  babies                          119390 non-null  int64  \n",
      " 12  meal                            119390 non-null  object \n",
      " 13  country                         118902 non-null  object \n",
      " 14  market_segment                  119390 non-null  object \n",
      " 15  distribution_channel            119390 non-null  object \n",
      " 16  is_repeated_guest               119390 non-null  int64  \n",
      " 17  previous_cancellations          119390 non-null  int64  \n",
      " 18  previous_bookings_not_canceled  119390 non-null  int64  \n",
      " 19  reserved_room_type              119390 non-null  object \n",
      " 20  assigned_room_type              119390 non-null  object \n",
      " 21  booking_changes                 119390 non-null  int64  \n",
      " 22  deposit_type                    119390 non-null  object \n",
      " 23  agent                           103050 non-null  float64\n",
      " 24  company                         6797 non-null    float64\n",
      " 25  days_in_waiting_list            119390 non-null  int64  \n",
      " 26  customer_type                   119390 non-null  object \n",
      " 27  adr                             119390 non-null  float64\n",
      " 28  required_car_parking_spaces     119390 non-null  int64  \n",
      " 29  total_of_special_requests       119390 non-null  int64  \n",
      " 30  reservation_status              119390 non-null  object \n",
      " 31  reservation_status_date         119390 non-null  object \n",
      " 32  Arrival_Date                    119390 non-null  object \n",
      " 33  Country_Name                    117620 non-null  object \n",
      " 34  Region                          117618 non-null  object \n",
      " 35  Region_Name                     117618 non-null  object \n",
      "dtypes: float64(4), int64(16), object(16)\n",
      "memory usage: 32.8+ MB\n"
     ]
    }
   ],
   "source": [
    "raw_data.info()"
   ]
  },
  {
   "cell_type": "markdown",
   "metadata": {},
   "source": [
    "### What can we quickly find out about bookings and cancellations"
   ]
  },
  {
   "cell_type": "code",
   "execution_count": 5,
   "metadata": {
    "scrolled": false
   },
   "outputs": [
    {
     "data": {
      "image/png": "[encoded data removed]",
      "text/plain": [
       "<Figure size 432x288 with 1 Axes>"
      ]
     },
     "metadata": {},
     "output_type": "display_data"
    }
   ],
   "source": [
    "# https://pandas.pydata.org/pandas-docs/stable/user_guide/visualization.html\n",
    "sns.countplot(x=raw_data['reservation_status'],data=raw_data, hue='hotel', hue_order=['City Hotel','Resort Hotel'])\n",
    "plt.xlabel('Reservation Status', size=12)\n",
    "plt.ylabel('Total Bookings', size=12)\n",
    "plt.title('Bookings by Status and Hotel', size=16)\n",
    "plt.show()"
   ]
  },
  {
   "cell_type": "markdown",
   "metadata": {},
   "source": [
    "     A reasonably large proportion of bookings result in cancellation. Majority of which are linked to City Hotel"
   ]
  },
  {
   "cell_type": "markdown",
   "metadata": {},
   "source": [
    "### Let's take a close look at the above statement"
   ]
  },
  {
   "cell_type": "code",
   "execution_count": 6,
   "metadata": {},
   "outputs": [
    {
     "data": {
      "text/html": [
       "<div>\n",
       "<style scoped>\n",
       "    .dataframe tbody tr th:only-of-type {\n",
       "        vertical-align: middle;\n",
       "    }\n",
       "\n",
       "    .dataframe tbody tr th {\n",
       "        vertical-align: top;\n",
       "    }\n",
       "\n",
       "    .dataframe thead th {\n",
       "        text-align: right;\n",
       "    }\n",
       "</style>\n",
       "<table border=\"1\" class=\"dataframe\">\n",
       "  <thead>\n",
       "    <tr style=\"text-align: right;\">\n",
       "      <th></th>\n",
       "      <th>index</th>\n",
       "      <th>is_canceled</th>\n",
       "    </tr>\n",
       "  </thead>\n",
       "  <tbody>\n",
       "    <tr>\n",
       "      <th>0</th>\n",
       "      <td>Check-Out</td>\n",
       "      <td>75166</td>\n",
       "    </tr>\n",
       "    <tr>\n",
       "      <th>1</th>\n",
       "      <td>Cancelled</td>\n",
       "      <td>44224</td>\n",
       "    </tr>\n",
       "  </tbody>\n",
       "</table>\n",
       "</div>"
      ],
      "text/plain": [
       "       index  is_canceled\n",
       "0  Check-Out        75166\n",
       "1  Cancelled        44224"
      ]
     },
     "execution_count": 6,
     "metadata": {},
     "output_type": "execute_result"
    }
   ],
   "source": [
    "reservation_status=raw_data.is_canceled.map({1:'Cancelled',0:'Check-Out'}).value_counts().reset_index()\n",
    "reservation_status"
   ]
  },
  {
   "cell_type": "code",
   "execution_count": 7,
   "metadata": {},
   "outputs": [
    {
     "data": {
      "image/png": "[encoded data removed]",
      "text/plain": [
       "<Figure size 432x288 with 1 Axes>"
      ]
     },
     "metadata": {},
     "output_type": "display_data"
    }
   ],
   "source": [
    "#Pie Chart in Python: https://plotly.com/python/pie-charts/\n",
    "custom_colour = ['#48bf0d','#eb4034']#,'#e8ad23']\n",
    "explode = (0, 0.1)  # only \"explode\" the 2nd slice\n",
    "plt.pie(\n",
    "        reservation_status['is_canceled'],\n",
    "        labels=reservation_status['index'],\n",
    "        autopct='%1.0f%%',\n",
    "        explode=explode,\n",
    "        colors=custom_colour\n",
    "       )\n",
    "plt.title('Booking By Status', fontsize=12)\n",
    "plt.show()"
   ]
  },
  {
   "cell_type": "markdown",
   "metadata": {},
   "source": [
    "             Cancellation accounts for 37 per cent of overall bookings."
   ]
  },
  {
   "cell_type": "code",
   "execution_count": 8,
   "metadata": {},
   "outputs": [],
   "source": [
    "cancelled_data = raw_data[(raw_data['reservation_status'] == 'Canceled')]\n",
    "#cancelled_data.count()"
   ]
  },
  {
   "cell_type": "code",
   "execution_count": 9,
   "metadata": {},
   "outputs": [
    {
     "data": {
      "image/png": "[encoded data removed]",
      "text/plain": [
       "<Figure size 504x360 with 1 Axes>"
      ]
     },
     "metadata": {},
     "output_type": "display_data"
    }
   ],
   "source": [
    "ax= cancelled_data['hotel'].value_counts().plot(kind='bar', figsize=(7,5),\n",
    "                                                       color=['steelblue','sandybrown'], fontsize=9);\n",
    "ax.set_alpha(0.8)\n",
    "ax.set_title('Cancellation By Hotel', fontsize=16)\n",
    "ax.set_ylabel('Total Cancellation', size=9)\n",
    "plt.xticks(rotation=0,size=12)\n",
    "\n",
    "# create a list to collect the plt.patches data\n",
    "totals=[]\n",
    "\n",
    "# find the values and append to list\n",
    "for i in ax.patches:\n",
    "    totals.append(i.get_height())\n",
    "    \n",
    "# set individual bar lables using above list\n",
    "total = sum(totals)\n",
    "\n",
    "# set individual bar labels using above list\n",
    "for i in ax.patches:\n",
    "    ax.text(i.get_x()+0.15,i.get_height()+1, \\\n",
    "            str(round((i.get_height()/total)*100,2))+'%', fontsize=12,\n",
    "            color='dimgrey')"
   ]
  },
  {
   "cell_type": "markdown",
   "metadata": {},
   "source": [
    "     3 out of 4 cancellations were linked to City Hotel."
   ]
  },
  {
   "cell_type": "markdown",
   "metadata": {},
   "source": [
    "## is cancellation rate high during certain periods?"
   ]
  },
  {
   "cell_type": "code",
   "execution_count": 10,
   "metadata": {
    "scrolled": true
   },
   "outputs": [
    {
     "data": {
      "image/png": "[encoded data removed]",
      "text/plain": [
       "<Figure size 504x360 with 1 Axes>"
      ]
     },
     "metadata": {},
     "output_type": "display_data"
    }
   ],
   "source": [
    "# get cancellation % by month\n",
    "cancelled_perc = (pd.crosstab(cancelled_data.arrival_date_month,cancelled_data.hotel)\n",
    "                /pd.crosstab(raw_data.arrival_date_month,raw_data.hotel)*100)\n",
    "\n",
    "# order by month:\n",
    "ordered_months = [\"January\", \"February\", \"March\", \"April\", \"May\", \"June\", \n",
    "          \"July\", \"August\", \"September\", \"October\", \"November\", \"December\"]\n",
    "\n",
    "# plot cancellation in % by month\n",
    "ax = cancelled_perc.reindex(ordered_months).plot(kind=\"line\" , legend=True,  figsize=(7, 5)\n",
    "                                                )\n",
    "ax.set_xticks(range(len(ordered_months)))\n",
    "ax.set_xticklabels(ordered_months)\n",
    "ax.set_xlabel(\"Month\")\n",
    "ax.set_ylabel(\"Cancellations %\")\n",
    "ax.legend(loc=\"lower right\")\n",
    "plt.title(\"Cancellations per month\", fontsize=16)\n",
    "plt.xticks(rotation=90)\n",
    "plt.show()"
   ]
  },
  {
   "cell_type": "markdown",
   "metadata": {},
   "source": [
    "      Cancellation rate is at its peak during holiday season (between June and September) for Resort Hotel.\n",
    "      Whereas cancellation rate for City Hotel peaks in April, then gradually drops over the summer period."
   ]
  },
  {
   "cell_type": "markdown",
   "metadata": {},
   "source": [
    "### How about trend over the years?"
   ]
  },
  {
   "cell_type": "code",
   "execution_count": 11,
   "metadata": {},
   "outputs": [
    {
     "data": {
      "image/png": "[encoded data removed]",
      "text/plain": [
       "<Figure size 504x360 with 1 Axes>"
      ]
     },
     "metadata": {},
     "output_type": "display_data"
    }
   ],
   "source": [
    "# get cancellation % by year\n",
    "cancelled_perc_yr = (pd.crosstab(cancelled_data.arrival_date_year,cancelled_data.hotel)\n",
    "                    /pd.crosstab(raw_data.arrival_date_year,raw_data.hotel)*100)\n",
    "\n",
    "# plot cancellation rate by year\n",
    "ax = cancelled_perc_yr.plot(kind=\"bar\" , legend=True,  figsize=(7, 5)\n",
    "                                                )\n",
    "ax.set_xlabel(\"Year\")\n",
    "ax.set_ylabel(\"Cancellations %\")\n",
    "ax.legend(loc=\"upper center\", fontsize=9)\n",
    "plt.title(\"Cancellations per Year\", fontsize=16)\n",
    "plt.xticks(rotation=0)\n",
    "plt.show()\n"
   ]
  },
  {
   "cell_type": "markdown",
   "metadata": {},
   "source": [
    "   Around 40 per cent of City Hotel bookings resulted in cancellation, while the rate for Resort Hotel has steadily  increased between 2015 and 2017, from the rate of 25 per cent to 30 per cent."
   ]
  },
  {
   "cell_type": "markdown",
   "metadata": {},
   "source": [
    "### *** EDA with focus on features ***\n"
   ]
  },
  {
   "cell_type": "markdown",
   "metadata": {},
   "source": [
    "#### This sub-section will explore the data with focus on features, the aim is to establish relevance and correlation with target value, thus determining whether it would be a good predictor."
   ]
  },
  {
   "cell_type": "code",
   "execution_count": 12,
   "metadata": {},
   "outputs": [
    {
     "data": {
      "text/html": [
       "<div>\n",
       "<style scoped>\n",
       "    .dataframe tbody tr th:only-of-type {\n",
       "        vertical-align: middle;\n",
       "    }\n",
       "\n",
       "    .dataframe tbody tr th {\n",
       "        vertical-align: top;\n",
       "    }\n",
       "\n",
       "    .dataframe thead th {\n",
       "        text-align: right;\n",
       "    }\n",
       "</style>\n",
       "<table border=\"1\" class=\"dataframe\">\n",
       "  <thead>\n",
       "    <tr style=\"text-align: right;\">\n",
       "      <th></th>\n",
       "      <th>hotel</th>\n",
       "      <th>is_canceled</th>\n",
       "      <th>lead_time</th>\n",
       "      <th>arrival_date_year</th>\n",
       "      <th>arrival_date_month</th>\n",
       "      <th>arrival_date_week_number</th>\n",
       "      <th>arrival_date_day_of_month</th>\n",
       "      <th>stays_in_weekend_nights</th>\n",
       "      <th>stays_in_week_nights</th>\n",
       "      <th>adults</th>\n",
       "      <th>children</th>\n",
       "      <th>babies</th>\n",
       "      <th>meal</th>\n",
       "      <th>country</th>\n",
       "      <th>market_segment</th>\n",
       "      <th>distribution_channel</th>\n",
       "      <th>is_repeated_guest</th>\n",
       "      <th>previous_cancellations</th>\n",
       "      <th>previous_bookings_not_canceled</th>\n",
       "      <th>reserved_room_type</th>\n",
       "      <th>assigned_room_type</th>\n",
       "      <th>booking_changes</th>\n",
       "      <th>deposit_type</th>\n",
       "      <th>agent</th>\n",
       "      <th>company</th>\n",
       "      <th>days_in_waiting_list</th>\n",
       "      <th>customer_type</th>\n",
       "      <th>adr</th>\n",
       "      <th>required_car_parking_spaces</th>\n",
       "      <th>total_of_special_requests</th>\n",
       "      <th>reservation_status</th>\n",
       "      <th>reservation_status_date</th>\n",
       "      <th>Arrival_Date</th>\n",
       "      <th>Country_Name</th>\n",
       "      <th>Region</th>\n",
       "      <th>Region_Name</th>\n",
       "    </tr>\n",
       "  </thead>\n",
       "  <tbody>\n",
       "    <tr>\n",
       "      <th>0</th>\n",
       "      <td>Resort Hotel</td>\n",
       "      <td>0</td>\n",
       "      <td>342</td>\n",
       "      <td>2015</td>\n",
       "      <td>July</td>\n",
       "      <td>27</td>\n",
       "      <td>1</td>\n",
       "      <td>0</td>\n",
       "      <td>0</td>\n",
       "      <td>2</td>\n",
       "      <td>0.0</td>\n",
       "      <td>0</td>\n",
       "      <td>BB</td>\n",
       "      <td>PRT</td>\n",
       "      <td>Direct</td>\n",
       "      <td>Direct</td>\n",
       "      <td>0</td>\n",
       "      <td>0</td>\n",
       "      <td>0</td>\n",
       "      <td>C</td>\n",
       "      <td>C</td>\n",
       "      <td>3</td>\n",
       "      <td>No Deposit</td>\n",
       "      <td>NaN</td>\n",
       "      <td>NaN</td>\n",
       "      <td>0</td>\n",
       "      <td>Transient</td>\n",
       "      <td>0.0</td>\n",
       "      <td>0</td>\n",
       "      <td>0</td>\n",
       "      <td>Check-Out</td>\n",
       "      <td>01/07/2015</td>\n",
       "      <td>01/07/2015</td>\n",
       "      <td>Portugal</td>\n",
       "      <td>Europe</td>\n",
       "      <td>Southern Europe</td>\n",
       "    </tr>\n",
       "    <tr>\n",
       "      <th>1</th>\n",
       "      <td>Resort Hotel</td>\n",
       "      <td>0</td>\n",
       "      <td>737</td>\n",
       "      <td>2015</td>\n",
       "      <td>July</td>\n",
       "      <td>27</td>\n",
       "      <td>1</td>\n",
       "      <td>0</td>\n",
       "      <td>0</td>\n",
       "      <td>2</td>\n",
       "      <td>0.0</td>\n",
       "      <td>0</td>\n",
       "      <td>BB</td>\n",
       "      <td>PRT</td>\n",
       "      <td>Direct</td>\n",
       "      <td>Direct</td>\n",
       "      <td>0</td>\n",
       "      <td>0</td>\n",
       "      <td>0</td>\n",
       "      <td>C</td>\n",
       "      <td>C</td>\n",
       "      <td>4</td>\n",
       "      <td>No Deposit</td>\n",
       "      <td>NaN</td>\n",
       "      <td>NaN</td>\n",
       "      <td>0</td>\n",
       "      <td>Transient</td>\n",
       "      <td>0.0</td>\n",
       "      <td>0</td>\n",
       "      <td>0</td>\n",
       "      <td>Check-Out</td>\n",
       "      <td>01/07/2015</td>\n",
       "      <td>01/07/2015</td>\n",
       "      <td>Portugal</td>\n",
       "      <td>Europe</td>\n",
       "      <td>Southern Europe</td>\n",
       "    </tr>\n",
       "    <tr>\n",
       "      <th>...</th>\n",
       "      <td>...</td>\n",
       "      <td>...</td>\n",
       "      <td>...</td>\n",
       "      <td>...</td>\n",
       "      <td>...</td>\n",
       "      <td>...</td>\n",
       "      <td>...</td>\n",
       "      <td>...</td>\n",
       "      <td>...</td>\n",
       "      <td>...</td>\n",
       "      <td>...</td>\n",
       "      <td>...</td>\n",
       "      <td>...</td>\n",
       "      <td>...</td>\n",
       "      <td>...</td>\n",
       "      <td>...</td>\n",
       "      <td>...</td>\n",
       "      <td>...</td>\n",
       "      <td>...</td>\n",
       "      <td>...</td>\n",
       "      <td>...</td>\n",
       "      <td>...</td>\n",
       "      <td>...</td>\n",
       "      <td>...</td>\n",
       "      <td>...</td>\n",
       "      <td>...</td>\n",
       "      <td>...</td>\n",
       "      <td>...</td>\n",
       "      <td>...</td>\n",
       "      <td>...</td>\n",
       "      <td>...</td>\n",
       "      <td>...</td>\n",
       "      <td>...</td>\n",
       "      <td>...</td>\n",
       "      <td>...</td>\n",
       "      <td>...</td>\n",
       "    </tr>\n",
       "    <tr>\n",
       "      <th>119388</th>\n",
       "      <td>City Hotel</td>\n",
       "      <td>0</td>\n",
       "      <td>109</td>\n",
       "      <td>2017</td>\n",
       "      <td>August</td>\n",
       "      <td>35</td>\n",
       "      <td>31</td>\n",
       "      <td>2</td>\n",
       "      <td>5</td>\n",
       "      <td>2</td>\n",
       "      <td>0.0</td>\n",
       "      <td>0</td>\n",
       "      <td>BB</td>\n",
       "      <td>GBR</td>\n",
       "      <td>Online TA</td>\n",
       "      <td>TA/TO</td>\n",
       "      <td>0</td>\n",
       "      <td>0</td>\n",
       "      <td>0</td>\n",
       "      <td>A</td>\n",
       "      <td>A</td>\n",
       "      <td>0</td>\n",
       "      <td>No Deposit</td>\n",
       "      <td>89.0</td>\n",
       "      <td>NaN</td>\n",
       "      <td>0</td>\n",
       "      <td>Transient</td>\n",
       "      <td>104.4</td>\n",
       "      <td>0</td>\n",
       "      <td>0</td>\n",
       "      <td>Check-Out</td>\n",
       "      <td>07/09/2017</td>\n",
       "      <td>31/08/2017</td>\n",
       "      <td>United Kingdom of Great Britain and Northern I...</td>\n",
       "      <td>Europe</td>\n",
       "      <td>Northern Europe</td>\n",
       "    </tr>\n",
       "    <tr>\n",
       "      <th>119389</th>\n",
       "      <td>City Hotel</td>\n",
       "      <td>0</td>\n",
       "      <td>205</td>\n",
       "      <td>2017</td>\n",
       "      <td>August</td>\n",
       "      <td>35</td>\n",
       "      <td>29</td>\n",
       "      <td>2</td>\n",
       "      <td>7</td>\n",
       "      <td>2</td>\n",
       "      <td>0.0</td>\n",
       "      <td>0</td>\n",
       "      <td>HB</td>\n",
       "      <td>DEU</td>\n",
       "      <td>Online TA</td>\n",
       "      <td>TA/TO</td>\n",
       "      <td>0</td>\n",
       "      <td>0</td>\n",
       "      <td>0</td>\n",
       "      <td>A</td>\n",
       "      <td>A</td>\n",
       "      <td>0</td>\n",
       "      <td>No Deposit</td>\n",
       "      <td>9.0</td>\n",
       "      <td>NaN</td>\n",
       "      <td>0</td>\n",
       "      <td>Transient</td>\n",
       "      <td>151.2</td>\n",
       "      <td>0</td>\n",
       "      <td>2</td>\n",
       "      <td>Check-Out</td>\n",
       "      <td>07/09/2017</td>\n",
       "      <td>29/08/2017</td>\n",
       "      <td>Germany</td>\n",
       "      <td>Europe</td>\n",
       "      <td>Western Europe</td>\n",
       "    </tr>\n",
       "  </tbody>\n",
       "</table>\n",
       "<p>119390 rows × 36 columns</p>\n",
       "</div>"
      ],
      "text/plain": [
       "               hotel  is_canceled  lead_time  arrival_date_year  \\\n",
       "0       Resort Hotel            0        342               2015   \n",
       "1       Resort Hotel            0        737               2015   \n",
       "...              ...          ...        ...                ...   \n",
       "119388    City Hotel            0        109               2017   \n",
       "119389    City Hotel            0        205               2017   \n",
       "\n",
       "       arrival_date_month  arrival_date_week_number  \\\n",
       "0                    July                        27   \n",
       "1                    July                        27   \n",
       "...                   ...                       ...   \n",
       "119388             August                        35   \n",
       "119389             August                        35   \n",
       "\n",
       "        arrival_date_day_of_month  stays_in_weekend_nights  \\\n",
       "0                               1                        0   \n",
       "1                               1                        0   \n",
       "...                           ...                      ...   \n",
       "119388                         31                        2   \n",
       "119389                         29                        2   \n",
       "\n",
       "        stays_in_week_nights  adults  children  babies meal country  \\\n",
       "0                          0       2       0.0       0   BB     PRT   \n",
       "1                          0       2       0.0       0   BB     PRT   \n",
       "...                      ...     ...       ...     ...  ...     ...   \n",
       "119388                     5       2       0.0       0   BB     GBR   \n",
       "119389                     7       2       0.0       0   HB     DEU   \n",
       "\n",
       "       market_segment distribution_channel  is_repeated_guest  \\\n",
       "0              Direct               Direct                  0   \n",
       "1              Direct               Direct                  0   \n",
       "...               ...                  ...                ...   \n",
       "119388      Online TA                TA/TO                  0   \n",
       "119389      Online TA                TA/TO                  0   \n",
       "\n",
       "        previous_cancellations  previous_bookings_not_canceled  \\\n",
       "0                            0                               0   \n",
       "1                            0                               0   \n",
       "...                        ...                             ...   \n",
       "119388                       0                               0   \n",
       "119389                       0                               0   \n",
       "\n",
       "       reserved_room_type assigned_room_type  booking_changes deposit_type  \\\n",
       "0                       C                  C                3   No Deposit   \n",
       "1                       C                  C                4   No Deposit   \n",
       "...                   ...                ...              ...          ...   \n",
       "119388                  A                  A                0   No Deposit   \n",
       "119389                  A                  A                0   No Deposit   \n",
       "\n",
       "        agent  company  days_in_waiting_list customer_type    adr  \\\n",
       "0         NaN      NaN                     0     Transient    0.0   \n",
       "1         NaN      NaN                     0     Transient    0.0   \n",
       "...       ...      ...                   ...           ...    ...   \n",
       "119388   89.0      NaN                     0     Transient  104.4   \n",
       "119389    9.0      NaN                     0     Transient  151.2   \n",
       "\n",
       "        required_car_parking_spaces  total_of_special_requests  \\\n",
       "0                                 0                          0   \n",
       "1                                 0                          0   \n",
       "...                             ...                        ...   \n",
       "119388                            0                          0   \n",
       "119389                            0                          2   \n",
       "\n",
       "       reservation_status reservation_status_date Arrival_Date  \\\n",
       "0               Check-Out              01/07/2015   01/07/2015   \n",
       "1               Check-Out              01/07/2015   01/07/2015   \n",
       "...                   ...                     ...          ...   \n",
       "119388          Check-Out              07/09/2017   31/08/2017   \n",
       "119389          Check-Out              07/09/2017   29/08/2017   \n",
       "\n",
       "                                             Country_Name  Region  \\\n",
       "0                                                Portugal  Europe   \n",
       "1                                                Portugal  Europe   \n",
       "...                                                   ...     ...   \n",
       "119388  United Kingdom of Great Britain and Northern I...  Europe   \n",
       "119389                                            Germany  Europe   \n",
       "\n",
       "            Region_Name  \n",
       "0       Southern Europe  \n",
       "1       Southern Europe  \n",
       "...                 ...  \n",
       "119388  Northern Europe  \n",
       "119389   Western Europe  \n",
       "\n",
       "[119390 rows x 36 columns]"
      ]
     },
     "metadata": {},
     "output_type": "display_data"
    }
   ],
   "source": [
    "with pd.option_context('display.max_rows', 5, 'display.max_columns', None): \n",
    "    display(raw_data)"
   ]
  },
  {
   "cell_type": "markdown",
   "metadata": {},
   "source": [
    "#### What can we quickly find out about bookings and cancellations"
   ]
  },
  {
   "cell_type": "code",
   "execution_count": 13,
   "metadata": {
    "scrolled": false
   },
   "outputs": [
    {
     "data": {
      "image/png": "[encoded data removed]",
      "text/plain": [
       "<Figure size 432x288 with 1 Axes>"
      ]
     },
     "metadata": {},
     "output_type": "display_data"
    }
   ],
   "source": [
    "custom_colour = ['#48bf0d','#eb4034']\n",
    "\n",
    "sns.countplot(x=raw_data['Region'],data=raw_data, hue='is_canceled', palette = custom_colour)\n",
    "plt.xlabel('Region', size=12)\n",
    "plt.ylabel('Total Bookings', size=12)\n",
    "plt.title('Reservation Status by Region', size=16)\n",
    "plt.show()"
   ]
  },
  {
   "cell_type": "code",
   "execution_count": 14,
   "metadata": {
    "scrolled": true
   },
   "outputs": [
    {
     "data": {
      "image/png": "[encoded data removed]",
      "text/plain": [
       "<Figure size 576x360 with 1 Axes>"
      ]
     },
     "metadata": {},
     "output_type": "display_data"
    }
   ],
   "source": [
    "ordered_room_type = raw_data.reserved_room_type.unique()\n",
    "ordered_room_type.sort()\n",
    "custom_colour = ['#48bf0d','#eb4034']\n",
    "\n",
    "plt.figure(figsize=(8, 5))\n",
    "sns.boxplot(x='reserved_room_type'\n",
    "           ,y='adr' \n",
    "           ,data=raw_data\n",
    "           ,order=ordered_room_type\n",
    "           ,hue='is_canceled'\n",
    "           ,palette = custom_colour\n",
    "           #fliersize=0,fliersize=0\n",
    "           )\n",
    "plt.title(\"Price of room types by booking outcome\", fontsize=16)\n",
    "plt.xlabel(\"Room type\", fontsize=10)\n",
    "plt.ylabel(\"Average Daily Rate (ADR)\", fontsize=10)\n",
    "plt.legend(loc=\"upper right\", title='is_canceled')\n",
    "plt.ylim(0, 400)\n",
    "plt.show()\n",
    "\n"
   ]
  },
  {
   "cell_type": "code",
   "execution_count": 15,
   "metadata": {
    "scrolled": false
   },
   "outputs": [
    {
     "data": {
      "image/png": "[encoded data removed]",
      "text/plain": [
       "<Figure size 504x360 with 1 Axes>"
      ]
     },
     "metadata": {},
     "output_type": "display_data"
    }
   ],
   "source": [
    "city_hotel_adr = pd.pivot_table(raw_data[(raw_data['hotel'] == 'City Hotel')], values='adr', index='reserved_room_type',columns='is_canceled', aggfunc=np.mean)\n",
    "\n",
    "custom_colour = ['#48bf0d','#eb4034']\n",
    "\n",
    "# plot cancellation rate by year\n",
    "ax = city_hotel_adr.plot(kind=\"barh\" , legend=True,  color=custom_colour, figsize=(7, 5)\n",
    "                                                )\n",
    "ax.set_xlabel(\"Average Daily Rate\")\n",
    "ax.set_ylabel(\"Reserved Room Type\")\n",
    "ax.legend(loc=\"lower right\", fontsize=9, title='is_canceled')\n",
    "plt.title(\"Average Booking Rate - City Hotel\", fontsize=16)\n",
    "plt.show()"
   ]
  },
  {
   "cell_type": "code",
   "execution_count": 16,
   "metadata": {
    "scrolled": false
   },
   "outputs": [
    {
     "data": {
      "image/png": "[encoded data removed]",
      "text/plain": [
       "<Figure size 504x360 with 1 Axes>"
      ]
     },
     "metadata": {},
     "output_type": "display_data"
    }
   ],
   "source": [
    "resort_hotel_adr = pd.pivot_table(raw_data[(raw_data['hotel'] == 'Resort Hotel')], values='adr', index='reserved_room_type',columns='is_canceled', aggfunc=np.mean)\n",
    "\n",
    "custom_colour = ['#48bf0d','#eb4034']\n",
    "\n",
    "# plot cancellation rate by year\n",
    "ax = resort_hotel_adr.plot(kind=\"barh\" , legend=True,  color=custom_colour, figsize=(7, 5)\n",
    "                                                )\n",
    "ax.set_xlabel(\"Average Daily Rate\")\n",
    "ax.set_ylabel(\"Reserved Room Type\")\n",
    "ax.legend(loc=\"lower right\", fontsize=9, title='is_canceled')\n",
    "plt.title(\"Average Booking Rate - Resort Hotel\", fontsize=16)\n",
    "plt.show()"
   ]
  },
  {
   "cell_type": "markdown",
   "metadata": {},
   "source": [
    "   Bookings' average daily rate appears to be higher for bookings that resulted in cancellation across all but one room type (type A for City Hotel and Type L for Resort Hotel)"
   ]
  },
  {
   "cell_type": "code",
   "execution_count": 17,
   "metadata": {},
   "outputs": [
    {
     "data": {
      "image/png": "[encoded data removed]",
      "text/plain": [
       "<Figure size 432x288 with 1 Axes>"
      ]
     },
     "metadata": {},
     "output_type": "display_data"
    }
   ],
   "source": [
    "customer_type=raw_data[(raw_data['is_canceled']==1)][\"customer_type\"].value_counts().reset_index()\n",
    "plt.pie(\n",
    "        customer_type['customer_type'],\n",
    "        labels=customer_type['index'],\n",
    "        autopct='%1.0f%%'\n",
    "       # explode=explode,\n",
    "        #colors=custom_colour\n",
    "       )\n",
    "plt.title('Booking Customer Type', fontsize=16)\n",
    "plt.show()"
   ]
  },
  {
   "cell_type": "code",
   "execution_count": 18,
   "metadata": {},
   "outputs": [
    {
     "data": {
      "image/png": "[encoded data removed]",
      "text/plain": [
       "<Figure size 648x360 with 1 Axes>"
      ]
     },
     "metadata": {},
     "output_type": "display_data"
    }
   ],
   "source": [
    "segments=raw_data[(raw_data['is_canceled']==1)][\"market_segment\"].value_counts().reset_index()\n",
    "\n",
    "fig, ax = plt.subplots(figsize=(9, 5), subplot_kw=dict(aspect=\"equal\"))\n",
    "\n",
    "\n",
    "\n",
    "wedges, texts, autotexts = ax.pie(segments['market_segment'], autopct='%1.0f%%',\n",
    "                                  textprops=dict(color=\"w\"))\n",
    "\n",
    "ax.legend(wedges, segments['index'],\n",
    "          title=\"Segment\",\n",
    "          loc=\"center left\",\n",
    "          bbox_to_anchor=(1, 0, 0.5, 1))\n",
    "\n",
    "plt.setp(autotexts, size=10, weight=\"bold\")\n",
    "\n",
    "plt.title('Booking by Segment', fontsize=16)\n",
    "\n",
    "plt.show()"
   ]
  },
  {
   "cell_type": "code",
   "execution_count": 19,
   "metadata": {},
   "outputs": [
    {
     "data": {
      "image/png": "[encoded data removed]",
      "text/plain": [
       "<Figure size 432x288 with 1 Axes>"
      ]
     },
     "metadata": {},
     "output_type": "display_data"
    }
   ],
   "source": [
    "\n",
    "sns.countplot(x=np.where(raw_data['days_in_waiting_list'] > 5, '>5',raw_data['days_in_waiting_list'])\n",
    "             ,data=raw_data\n",
    "             #,hue='is_canceled'\n",
    "             ,order=['0','1','2','3','4','5','>5']\n",
    "             )\n",
    "plt.title(\"Bookings and Waiting List\", fontsize=16)\n",
    "plt.xlabel('Days in Waiting List', size=12)\n",
    "plt.ylabel('Total Bookings', size=12)\n",
    "plt.show()"
   ]
  },
  {
   "cell_type": "markdown",
   "metadata": {},
   "source": [
    "Just 3 per cent of bookings had to be placed on waiting list, with the minimum and maximum number of days in waiting list respectively being 39 and 183."
   ]
  },
  {
   "cell_type": "code",
   "execution_count": 20,
   "metadata": {},
   "outputs": [
    {
     "data": {
      "image/png": "[encoded data removed]",
      "text/plain": [
       "<Figure size 576x360 with 1 Axes>"
      ]
     },
     "metadata": {},
     "output_type": "display_data"
    }
   ],
   "source": [
    "#ordered_room_type = raw_data.reserved_room_type.unique()\n",
    "#ordered_room_type.sort()\n",
    "custom_colour = ['#48bf0d','#eb4034']\n",
    "\n",
    "plt.figure(figsize=(8, 5))\n",
    "sns.boxplot(x='lead_time' \n",
    "           ,y='is_canceled' \n",
    "           ,data=raw_data\n",
    "           ,palette = custom_colour\n",
    "           ,fliersize=0\n",
    "           ,orient='h'\n",
    "           )\n",
    "plt.title(\"Lead Time Distribution\", fontsize=16)\n",
    "plt.xlabel(\"Lead Time\", fontsize=12)\n",
    "plt.ylabel(\"Booking Cancelled?\", fontsize=12)\n",
    "plt.xlim(0, 500)\n",
    "plt.show()"
   ]
  },
  {
   "cell_type": "markdown",
   "metadata": {},
   "source": [
    "Lead time for cancelled booking is typically much higher compared to those of checked-in bookings."
   ]
  },
  {
   "cell_type": "code",
   "execution_count": 21,
   "metadata": {},
   "outputs": [
    {
     "data": {
      "image/png": "[encoded data removed]",
      "text/plain": [
       "<Figure size 504x360 with 1 Axes>"
      ]
     },
     "metadata": {},
     "output_type": "display_data"
    }
   ],
   "source": [
    "ax = pd.crosstab(raw_data.deposit_type,raw_data.is_canceled).plot(\n",
    "                                                                  kind=\"bar\" \n",
    "                                                                , legend=True\n",
    "                                                                , color=custom_colour\n",
    "                                                                ,  figsize=(7, 5)\n",
    "                                                                ,stacked=True\n",
    "                                                                 )\n",
    "ax.set_xlabel(\"Deposit Type\")\n",
    "ax.set_ylabel(\"Total Bookings\")\n",
    "ax.legend(loc=\"upper right\", fontsize=9, title='is_canceled')\n",
    "plt.title(\"Reservation by Deposit Type\", fontsize=16)\n",
    "plt.xticks(rotation=0)\n",
    "plt.show()"
   ]
  },
  {
   "cell_type": "markdown",
   "metadata": {},
   "source": [
    "'No Deposit' booking is the most common with approx.87% of bookings associated with this deposit type, followed by 'Non refund'  with 12% of the overall bookings. Refundable booking is very uncommon with just 0.1% (or 162) of bookings linked to this deposit type.\n",
    "The chart above indicates that all 'Non refund' bookings result in cancellation, and that there wasn't any 'Refundable' booking taken, which may not be the full picture due to the scale. Let's plot a similar graph but with the same scale for all three deposit type."
   ]
  },
  {
   "cell_type": "code",
   "execution_count": 22,
   "metadata": {},
   "outputs": [
    {
     "data": {
      "image/png": "[encoded data removed]",
      "text/plain": [
       "<Figure size 504x360 with 1 Axes>"
      ]
     },
     "metadata": {},
     "output_type": "display_data"
    }
   ],
   "source": [
    "raw_data2 = raw_data.copy()\n",
    "raw_data2['one'] = 1\n",
    "ax = pd.pivot_table(raw_data2, values='one', index='deposit_type',columns='is_canceled', aggfunc=np.sum)\n",
    "\n",
    "custom_colour = ['#48bf0d','#eb4034']\n",
    "\n",
    "ax = ax.div(ax.sum(1), axis=0)\n",
    "ax.plot(\n",
    "        kind=\"bar\" \n",
    "      , legend=True\n",
    "      , color=custom_colour\n",
    "      ,  figsize=(7, 5)\n",
    "      , stacked=True\n",
    "        )\n",
    "plt.gca().set_yticklabels(['{:.0f}%'.format(x*100) for x in plt.gca().get_yticks()]) \n",
    "plt.xlabel('Deposit Type', size=12)\n",
    "plt.ylabel('Deposit Type Split', size=12)\n",
    "plt.legend(bbox_to_anchor=(1.05, 1), title='is_cancelled?', loc='upper left', borderaxespad=0.)\n",
    "plt.title(\"Reservation by Deposit Type\", fontsize=16)\n",
    "plt.xticks(rotation=0)\n",
    "plt.show()\n",
    "\n"
   ]
  },
  {
   "cell_type": "markdown",
   "metadata": {},
   "source": [
    "The chart above confirms that nearly all 'Non refund' bookings result in cancellation (99.4%), Whereas, cancelled bookings account for just 28 per cent and 22 per cent of 'No deposit' and 'Refundable' booking types, respectively."
   ]
  },
  {
   "cell_type": "markdown",
   "metadata": {},
   "source": [
    "######  "
   ]
  },
  {
   "cell_type": "code",
   "execution_count": 23,
   "metadata": {
    "scrolled": true
   },
   "outputs": [
    {
     "data": {
      "image/png": "[encoded data removed]",
      "text/plain": [
       "<Figure size 720x504 with 2 Axes>"
      ]
     },
     "metadata": {},
     "output_type": "display_data"
    }
   ],
   "source": [
    "# Let's have a look at relationships within the dataset.\n",
    "# The approach adopted here would allow a quick identification of important features for the model.\n",
    "fig,axes = plt.subplots(1,1,figsize=(10,7))\n",
    "sns.heatmap(raw_data.corr())\n",
    "plt.show()"
   ]
  },
  {
   "cell_type": "code",
   "execution_count": 24,
   "metadata": {},
   "outputs": [
    {
     "data": {
      "text/plain": [
       "lead_time                         0.293123\n",
       "total_of_special_requests         0.234658\n",
       "required_car_parking_spaces       0.195498\n",
       "booking_changes                   0.144381\n",
       "previous_cancellations            0.110133\n",
       "is_repeated_guest                 0.084793\n",
       "agent                             0.083114\n",
       "adults                            0.060017\n",
       "previous_bookings_not_canceled    0.057358\n",
       "days_in_waiting_list              0.054186\n",
       "adr                               0.047557\n",
       "babies                            0.032491\n",
       "stays_in_week_nights              0.024765\n",
       "company                           0.020642\n",
       "arrival_date_year                 0.016660\n",
       "arrival_date_week_number          0.008148\n",
       "arrival_date_day_of_month         0.006130\n",
       "children                          0.005048\n",
       "stays_in_weekend_nights           0.001791\n",
       "Name: is_canceled, dtype: float64"
      ]
     },
     "execution_count": 24,
     "metadata": {},
     "output_type": "execute_result"
    }
   ],
   "source": [
    "#Now a look at relationship of other features with target, with focus on numerical features.\n",
    "cancel_corr = raw_data.corr()[\"is_canceled\"]\n",
    "cancel_corr.abs().sort_values(ascending=False)[1:]"
   ]
  },
  {
   "cell_type": "markdown",
   "metadata": {},
   "source": [
    "I was expecting daily rate (adr) to be one of (if not) the most important numerical feature. After taking a closer look however, adr isn't even included in the top 10 most important features."
   ]
  },
  {
   "cell_type": "markdown",
   "metadata": {},
   "source": [
    "######  "
   ]
  },
  {
   "cell_type": "markdown",
   "metadata": {},
   "source": [
    "# 2. Data Cleanse and Preprocessing"
   ]
  },
  {
   "cell_type": "markdown",
   "metadata": {},
   "source": [
    "\n",
    "Step 0: data cleaning, for example dealing with outliers and missing values \n",
    "\n",
    "Step 1: Balance the dataset (between cancelled and not cancelled), to get a split of around 50% \n",
    "\n",
    "Step 2: Split inputs and targets\n",
    "\n",
    "Step 3: Standardise (non dummies) inputs \n",
    "\n",
    "Step 4: Shuffle the data (inputs & outputs)\n",
    "\n",
    "Step 5: Split the dataset into train, validation, and test\n",
    "\n",
    "Step 6: Save the three datasets in *.npz (for neural network)"
   ]
  },
  {
   "cell_type": "markdown",
   "metadata": {},
   "source": [
    "### 2.1 Clean the dataset followed by preprocess"
   ]
  },
  {
   "cell_type": "code",
   "execution_count": 25,
   "metadata": {},
   "outputs": [],
   "source": [
    "data = raw_data.copy()"
   ]
  },
  {
   "cell_type": "code",
   "execution_count": 26,
   "metadata": {},
   "outputs": [
    {
     "data": {
      "image/png": "[encoded data removed]",
      "text/plain": [
       "<Figure size 648x360 with 1 Axes>"
      ]
     },
     "metadata": {},
     "output_type": "display_data"
    }
   ],
   "source": [
    "# inspect null values  and remove irrelevant columns\n",
    "fig,axes = plt.subplots(1,1,figsize=(9,5))\n",
    "sns.heatmap(data.isna(),yticklabels=False,cbar=False,cmap='viridis')\n",
    "plt.show()"
   ]
  },
  {
   "cell_type": "code",
   "execution_count": 27,
   "metadata": {
    "scrolled": true
   },
   "outputs": [
    {
     "data": {
      "text/plain": [
       "company                           94.31\n",
       "agent                             13.69\n",
       "Region_Name                        1.48\n",
       "Country_Name                       1.48\n",
       "Region                             1.48\n",
       "country                            0.41\n",
       "meal                               0.00\n",
       "babies                             0.00\n",
       "children                           0.00\n",
       "adults                             0.00\n",
       "stays_in_week_nights               0.00\n",
       "distribution_channel               0.00\n",
       "stays_in_weekend_nights            0.00\n",
       "arrival_date_day_of_month          0.00\n",
       "arrival_date_week_number           0.00\n",
       "arrival_date_month                 0.00\n",
       "arrival_date_year                  0.00\n",
       "lead_time                          0.00\n",
       "is_canceled                        0.00\n",
       "market_segment                     0.00\n",
       "previous_cancellations             0.00\n",
       "is_repeated_guest                  0.00\n",
       "previous_bookings_not_canceled     0.00\n",
       "reserved_room_type                 0.00\n",
       "assigned_room_type                 0.00\n",
       "booking_changes                    0.00\n",
       "deposit_type                       0.00\n",
       "days_in_waiting_list               0.00\n",
       "customer_type                      0.00\n",
       "adr                                0.00\n",
       "required_car_parking_spaces        0.00\n",
       "total_of_special_requests          0.00\n",
       "reservation_status                 0.00\n",
       "reservation_status_date            0.00\n",
       "Arrival_Date                       0.00\n",
       "hotel                              0.00\n",
       "dtype: float64"
      ]
     },
     "execution_count": 27,
     "metadata": {},
     "output_type": "execute_result"
    }
   ],
   "source": [
    "# inspect null values again, but as a percentage of overall dataset\n",
    "round((data.isnull().sum() / (data.isnull().sum()+data.count()))*100,2).sort_values(ascending=False)"
   ]
  },
  {
   "cell_type": "markdown",
   "metadata": {},
   "source": [
    "Given the fact that 94% of company field is null, it would be irrelevant and useless as a feature. agent field has also a high percentage of missing value, and the provided agent IDs provided do not provide valuable information. Therefore, it is best to remove these columns as they appear irrelevant as features."
   ]
  },
  {
   "cell_type": "markdown",
   "metadata": {},
   "source": [
    "#### The feature of 'Lead Time' had outliers, therefore it's best to deal with outliers before applying any model"
   ]
  },
  {
   "cell_type": "code",
   "execution_count": 28,
   "metadata": {
    "scrolled": false
   },
   "outputs": [
    {
     "data": {
      "text/plain": [
       "count    119390.000000\n",
       "mean        100.362065\n",
       "std          96.587131\n",
       "min           0.000000\n",
       "25%          18.000000\n",
       "50%          69.000000\n",
       "75%         160.000000\n",
       "max         320.000000\n",
       "Name: lead_time, dtype: float64"
      ]
     },
     "execution_count": 28,
     "metadata": {},
     "output_type": "execute_result"
    }
   ],
   "source": [
    "# it appears that there are outliers situated around higher lead time (5% above 95th percentile), and it best to address this...\n",
    "# some may decide to remove those outliers but these data will be kept here, by updating any value above 95th percentile\n",
    "data.lead_time = np.where(data.lead_time > data.lead_time.quantile(0.95), data.lead_time.quantile(0.95),data.lead_time)\n",
    "data.lead_time.describe(include='all')"
   ]
  },
  {
   "cell_type": "markdown",
   "metadata": {},
   "source": [
    "######  "
   ]
  },
  {
   "cell_type": "markdown",
   "metadata": {},
   "source": [
    "\n",
    "\n",
    "Less than 1% of customers require more than 1 parking space, it's worth simplifying this feature by grouping this feature into two options: \n",
    "\n",
    "    those with a parking space requirement and those with none"
   ]
  },
  {
   "cell_type": "code",
   "execution_count": 29,
   "metadata": {},
   "outputs": [
    {
     "data": {
      "text/plain": [
       "required_car_parking_spaces  required_car_parking_spaces\n",
       "0                            0                              111974\n",
       "1                            1                                7416\n",
       "Name: required_car_parking_spaces, dtype: int64"
      ]
     },
     "execution_count": 29,
     "metadata": {},
     "output_type": "execute_result"
    }
   ],
   "source": [
    "data.required_car_parking_spaces = np.where(data.required_car_parking_spaces > 0,1,0)\n",
    "data.groupby(\"required_car_parking_spaces\")[\"required_car_parking_spaces\"].value_counts()"
   ]
  },
  {
   "cell_type": "markdown",
   "metadata": {},
   "source": [
    "###### Removal of irrelevant numerical features"
   ]
  },
  {
   "cell_type": "code",
   "execution_count": 30,
   "metadata": {
    "scrolled": true
   },
   "outputs": [],
   "source": [
    "data = data.drop(['arrival_date_year','arrival_date_week_number','arrival_date_day_of_month','company','agent'], axis=1)"
   ]
  },
  {
   "cell_type": "code",
   "execution_count": 31,
   "metadata": {},
   "outputs": [
    {
     "data": {
      "text/plain": [
       "['is_canceled',\n",
       " 'lead_time',\n",
       " 'stays_in_weekend_nights',\n",
       " 'stays_in_week_nights',\n",
       " 'adults',\n",
       " 'children',\n",
       " 'babies',\n",
       " 'is_repeated_guest',\n",
       " 'previous_cancellations',\n",
       " 'previous_bookings_not_canceled',\n",
       " 'booking_changes',\n",
       " 'days_in_waiting_list',\n",
       " 'adr',\n",
       " 'required_car_parking_spaces',\n",
       " 'total_of_special_requests']"
      ]
     },
     "execution_count": 31,
     "metadata": {},
     "output_type": "execute_result"
    }
   ],
   "source": [
    "# Get a list of remaining/relevant numerical variables\n",
    "[var for var in data.columns if data[var].dtypes!='object']"
   ]
  },
  {
   "cell_type": "markdown",
   "metadata": {},
   "source": [
    "The remaining of numerical fields will remain unchanged"
   ]
  },
  {
   "cell_type": "markdown",
   "metadata": {},
   "source": [
    "#### Dealing with categorical data\n",
    "\n",
    "Step 1: List variables and remove irrelevant ones.\n",
    "\n",
    "Step 2: Create dummy variables."
   ]
  },
  {
   "cell_type": "code",
   "execution_count": 32,
   "metadata": {},
   "outputs": [
    {
     "data": {
      "text/plain": [
       "hotel                                0\n",
       "is_canceled                          0\n",
       "lead_time                            0\n",
       "arrival_date_month                   0\n",
       "stays_in_weekend_nights              0\n",
       "stays_in_week_nights                 0\n",
       "adults                               0\n",
       "children                             4\n",
       "babies                               0\n",
       "meal                                 0\n",
       "country                            488\n",
       "market_segment                       0\n",
       "distribution_channel                 0\n",
       "is_repeated_guest                    0\n",
       "previous_cancellations               0\n",
       "previous_bookings_not_canceled       0\n",
       "reserved_room_type                   0\n",
       "assigned_room_type                   0\n",
       "booking_changes                      0\n",
       "deposit_type                         0\n",
       "days_in_waiting_list                 0\n",
       "customer_type                        0\n",
       "adr                                  0\n",
       "required_car_parking_spaces          0\n",
       "total_of_special_requests            0\n",
       "reservation_status                   0\n",
       "reservation_status_date              0\n",
       "Arrival_Date                         0\n",
       "Country_Name                      1770\n",
       "Region                            1772\n",
       "Region_Name                       1772\n",
       "dtype: int64"
      ]
     },
     "execution_count": 32,
     "metadata": {},
     "output_type": "execute_result"
    }
   ],
   "source": [
    "#check for missing value again, in case we've missed any.\n",
    "data.isna().sum()"
   ]
  },
  {
   "cell_type": "code",
   "execution_count": 33,
   "metadata": {},
   "outputs": [],
   "source": [
    "# Grouping nulls under 'Unspecified'\n",
    "data.Region = np.where(data.Region.isna(),'Unspecified',data.Region)"
   ]
  },
  {
   "cell_type": "code",
   "execution_count": 34,
   "metadata": {},
   "outputs": [],
   "source": [
    "# setting null to 0\n",
    "data.children = np.where(data.children.isna(),0,data.children)"
   ]
  },
  {
   "cell_type": "code",
   "execution_count": 35,
   "metadata": {},
   "outputs": [
    {
     "data": {
      "text/plain": [
       "['hotel',\n",
       " 'arrival_date_month',\n",
       " 'meal',\n",
       " 'country',\n",
       " 'market_segment',\n",
       " 'distribution_channel',\n",
       " 'reserved_room_type',\n",
       " 'assigned_room_type',\n",
       " 'deposit_type',\n",
       " 'customer_type',\n",
       " 'reservation_status',\n",
       " 'reservation_status_date',\n",
       " 'Arrival_Date',\n",
       " 'Country_Name',\n",
       " 'Region',\n",
       " 'Region_Name']"
      ]
     },
     "execution_count": 35,
     "metadata": {},
     "output_type": "execute_result"
    }
   ],
   "source": [
    "[var for var in data.columns if data[var].dtypes=='object']"
   ]
  },
  {
   "cell_type": "markdown",
   "metadata": {},
   "source": [
    "Removal of irrelevant categorical features"
   ]
  },
  {
   "cell_type": "code",
   "execution_count": 36,
   "metadata": {},
   "outputs": [],
   "source": [
    "data = data.drop(['arrival_date_month','distribution_channel','reservation_status','reservation_status_date','Arrival_Date','Country_Name','country','Region_Name'], axis=1)\n"
   ]
  },
  {
   "cell_type": "code",
   "execution_count": 37,
   "metadata": {},
   "outputs": [
    {
     "data": {
      "text/plain": [
       "['hotel',\n",
       " 'meal',\n",
       " 'market_segment',\n",
       " 'reserved_room_type',\n",
       " 'assigned_room_type',\n",
       " 'deposit_type',\n",
       " 'customer_type',\n",
       " 'Region']"
      ]
     },
     "execution_count": 37,
     "metadata": {},
     "output_type": "execute_result"
    }
   ],
   "source": [
    "#Get a list of remaining/relevant categorical variables\n",
    "[var for var in data.columns if data[var].dtypes=='object']"
   ]
  },
  {
   "cell_type": "markdown",
   "metadata": {},
   "source": [
    "#### Create dummy variables for retained categorical data"
   ]
  },
  {
   "cell_type": "code",
   "execution_count": 38,
   "metadata": {},
   "outputs": [],
   "source": [
    "# create dummy variables for categorical data\n",
    "data_inc_dummies = pd.get_dummies(data, drop_first=True)"
   ]
  },
  {
   "cell_type": "code",
   "execution_count": 39,
   "metadata": {},
   "outputs": [
    {
     "data": {
      "text/html": [
       "<div>\n",
       "<style scoped>\n",
       "    .dataframe tbody tr th:only-of-type {\n",
       "        vertical-align: middle;\n",
       "    }\n",
       "\n",
       "    .dataframe tbody tr th {\n",
       "        vertical-align: top;\n",
       "    }\n",
       "\n",
       "    .dataframe thead th {\n",
       "        text-align: right;\n",
       "    }\n",
       "</style>\n",
       "<table border=\"1\" class=\"dataframe\">\n",
       "  <thead>\n",
       "    <tr style=\"text-align: right;\">\n",
       "      <th></th>\n",
       "      <th>is_canceled</th>\n",
       "      <th>lead_time</th>\n",
       "      <th>stays_in_weekend_nights</th>\n",
       "      <th>stays_in_week_nights</th>\n",
       "      <th>adults</th>\n",
       "      <th>children</th>\n",
       "      <th>babies</th>\n",
       "      <th>is_repeated_guest</th>\n",
       "      <th>previous_cancellations</th>\n",
       "      <th>previous_bookings_not_canceled</th>\n",
       "      <th>booking_changes</th>\n",
       "      <th>days_in_waiting_list</th>\n",
       "      <th>adr</th>\n",
       "      <th>required_car_parking_spaces</th>\n",
       "      <th>total_of_special_requests</th>\n",
       "      <th>hotel_Resort Hotel</th>\n",
       "      <th>meal_FB</th>\n",
       "      <th>meal_HB</th>\n",
       "      <th>meal_SC</th>\n",
       "      <th>meal_Undefined</th>\n",
       "      <th>market_segment_Complementary</th>\n",
       "      <th>market_segment_Corporate</th>\n",
       "      <th>market_segment_Direct</th>\n",
       "      <th>market_segment_Groups</th>\n",
       "      <th>market_segment_Offline TA/TO</th>\n",
       "      <th>market_segment_Online TA</th>\n",
       "      <th>market_segment_Undefined</th>\n",
       "      <th>reserved_room_type_B</th>\n",
       "      <th>reserved_room_type_C</th>\n",
       "      <th>reserved_room_type_D</th>\n",
       "      <th>reserved_room_type_E</th>\n",
       "      <th>reserved_room_type_F</th>\n",
       "      <th>reserved_room_type_G</th>\n",
       "      <th>reserved_room_type_H</th>\n",
       "      <th>reserved_room_type_L</th>\n",
       "      <th>reserved_room_type_P</th>\n",
       "      <th>assigned_room_type_B</th>\n",
       "      <th>assigned_room_type_C</th>\n",
       "      <th>assigned_room_type_D</th>\n",
       "      <th>assigned_room_type_E</th>\n",
       "      <th>assigned_room_type_F</th>\n",
       "      <th>assigned_room_type_G</th>\n",
       "      <th>assigned_room_type_H</th>\n",
       "      <th>assigned_room_type_I</th>\n",
       "      <th>assigned_room_type_K</th>\n",
       "      <th>assigned_room_type_L</th>\n",
       "      <th>assigned_room_type_P</th>\n",
       "      <th>deposit_type_Non Refund</th>\n",
       "      <th>deposit_type_Refundable</th>\n",
       "      <th>customer_type_Group</th>\n",
       "      <th>customer_type_Transient</th>\n",
       "      <th>customer_type_Transient-Party</th>\n",
       "      <th>Region_Americas</th>\n",
       "      <th>Region_Asia</th>\n",
       "      <th>Region_Europe</th>\n",
       "      <th>Region_Oceania</th>\n",
       "      <th>Region_Unspecified</th>\n",
       "    </tr>\n",
       "  </thead>\n",
       "  <tbody>\n",
       "    <tr>\n",
       "      <th>0</th>\n",
       "      <td>0</td>\n",
       "      <td>320.0</td>\n",
       "      <td>0</td>\n",
       "      <td>0</td>\n",
       "      <td>2</td>\n",
       "      <td>0.0</td>\n",
       "      <td>0</td>\n",
       "      <td>0</td>\n",
       "      <td>0</td>\n",
       "      <td>0</td>\n",
       "      <td>3</td>\n",
       "      <td>0</td>\n",
       "      <td>0.00</td>\n",
       "      <td>0</td>\n",
       "      <td>0</td>\n",
       "      <td>1</td>\n",
       "      <td>0</td>\n",
       "      <td>0</td>\n",
       "      <td>0</td>\n",
       "      <td>0</td>\n",
       "      <td>0</td>\n",
       "      <td>0</td>\n",
       "      <td>1</td>\n",
       "      <td>0</td>\n",
       "      <td>0</td>\n",
       "      <td>0</td>\n",
       "      <td>0</td>\n",
       "      <td>0</td>\n",
       "      <td>1</td>\n",
       "      <td>0</td>\n",
       "      <td>0</td>\n",
       "      <td>0</td>\n",
       "      <td>0</td>\n",
       "      <td>0</td>\n",
       "      <td>0</td>\n",
       "      <td>0</td>\n",
       "      <td>0</td>\n",
       "      <td>1</td>\n",
       "      <td>0</td>\n",
       "      <td>0</td>\n",
       "      <td>0</td>\n",
       "      <td>0</td>\n",
       "      <td>0</td>\n",
       "      <td>0</td>\n",
       "      <td>0</td>\n",
       "      <td>0</td>\n",
       "      <td>0</td>\n",
       "      <td>0</td>\n",
       "      <td>0</td>\n",
       "      <td>0</td>\n",
       "      <td>1</td>\n",
       "      <td>0</td>\n",
       "      <td>0</td>\n",
       "      <td>0</td>\n",
       "      <td>1</td>\n",
       "      <td>0</td>\n",
       "      <td>0</td>\n",
       "    </tr>\n",
       "    <tr>\n",
       "      <th>1</th>\n",
       "      <td>0</td>\n",
       "      <td>320.0</td>\n",
       "      <td>0</td>\n",
       "      <td>0</td>\n",
       "      <td>2</td>\n",
       "      <td>0.0</td>\n",
       "      <td>0</td>\n",
       "      <td>0</td>\n",
       "      <td>0</td>\n",
       "      <td>0</td>\n",
       "      <td>4</td>\n",
       "      <td>0</td>\n",
       "      <td>0.00</td>\n",
       "      <td>0</td>\n",
       "      <td>0</td>\n",
       "      <td>1</td>\n",
       "      <td>0</td>\n",
       "      <td>0</td>\n",
       "      <td>0</td>\n",
       "      <td>0</td>\n",
       "      <td>0</td>\n",
       "      <td>0</td>\n",
       "      <td>1</td>\n",
       "      <td>0</td>\n",
       "      <td>0</td>\n",
       "      <td>0</td>\n",
       "      <td>0</td>\n",
       "      <td>0</td>\n",
       "      <td>1</td>\n",
       "      <td>0</td>\n",
       "      <td>0</td>\n",
       "      <td>0</td>\n",
       "      <td>0</td>\n",
       "      <td>0</td>\n",
       "      <td>0</td>\n",
       "      <td>0</td>\n",
       "      <td>0</td>\n",
       "      <td>1</td>\n",
       "      <td>0</td>\n",
       "      <td>0</td>\n",
       "      <td>0</td>\n",
       "      <td>0</td>\n",
       "      <td>0</td>\n",
       "      <td>0</td>\n",
       "      <td>0</td>\n",
       "      <td>0</td>\n",
       "      <td>0</td>\n",
       "      <td>0</td>\n",
       "      <td>0</td>\n",
       "      <td>0</td>\n",
       "      <td>1</td>\n",
       "      <td>0</td>\n",
       "      <td>0</td>\n",
       "      <td>0</td>\n",
       "      <td>1</td>\n",
       "      <td>0</td>\n",
       "      <td>0</td>\n",
       "    </tr>\n",
       "    <tr>\n",
       "      <th>2</th>\n",
       "      <td>0</td>\n",
       "      <td>7.0</td>\n",
       "      <td>0</td>\n",
       "      <td>1</td>\n",
       "      <td>1</td>\n",
       "      <td>0.0</td>\n",
       "      <td>0</td>\n",
       "      <td>0</td>\n",
       "      <td>0</td>\n",
       "      <td>0</td>\n",
       "      <td>0</td>\n",
       "      <td>0</td>\n",
       "      <td>75.00</td>\n",
       "      <td>0</td>\n",
       "      <td>0</td>\n",
       "      <td>1</td>\n",
       "      <td>0</td>\n",
       "      <td>0</td>\n",
       "      <td>0</td>\n",
       "      <td>0</td>\n",
       "      <td>0</td>\n",
       "      <td>0</td>\n",
       "      <td>1</td>\n",
       "      <td>0</td>\n",
       "      <td>0</td>\n",
       "      <td>0</td>\n",
       "      <td>0</td>\n",
       "      <td>0</td>\n",
       "      <td>0</td>\n",
       "      <td>0</td>\n",
       "      <td>0</td>\n",
       "      <td>0</td>\n",
       "      <td>0</td>\n",
       "      <td>0</td>\n",
       "      <td>0</td>\n",
       "      <td>0</td>\n",
       "      <td>0</td>\n",
       "      <td>1</td>\n",
       "      <td>0</td>\n",
       "      <td>0</td>\n",
       "      <td>0</td>\n",
       "      <td>0</td>\n",
       "      <td>0</td>\n",
       "      <td>0</td>\n",
       "      <td>0</td>\n",
       "      <td>0</td>\n",
       "      <td>0</td>\n",
       "      <td>0</td>\n",
       "      <td>0</td>\n",
       "      <td>0</td>\n",
       "      <td>1</td>\n",
       "      <td>0</td>\n",
       "      <td>0</td>\n",
       "      <td>0</td>\n",
       "      <td>1</td>\n",
       "      <td>0</td>\n",
       "      <td>0</td>\n",
       "    </tr>\n",
       "    <tr>\n",
       "      <th>3</th>\n",
       "      <td>0</td>\n",
       "      <td>13.0</td>\n",
       "      <td>0</td>\n",
       "      <td>1</td>\n",
       "      <td>1</td>\n",
       "      <td>0.0</td>\n",
       "      <td>0</td>\n",
       "      <td>0</td>\n",
       "      <td>0</td>\n",
       "      <td>0</td>\n",
       "      <td>0</td>\n",
       "      <td>0</td>\n",
       "      <td>75.00</td>\n",
       "      <td>0</td>\n",
       "      <td>0</td>\n",
       "      <td>1</td>\n",
       "      <td>0</td>\n",
       "      <td>0</td>\n",
       "      <td>0</td>\n",
       "      <td>0</td>\n",
       "      <td>0</td>\n",
       "      <td>1</td>\n",
       "      <td>0</td>\n",
       "      <td>0</td>\n",
       "      <td>0</td>\n",
       "      <td>0</td>\n",
       "      <td>0</td>\n",
       "      <td>0</td>\n",
       "      <td>0</td>\n",
       "      <td>0</td>\n",
       "      <td>0</td>\n",
       "      <td>0</td>\n",
       "      <td>0</td>\n",
       "      <td>0</td>\n",
       "      <td>0</td>\n",
       "      <td>0</td>\n",
       "      <td>0</td>\n",
       "      <td>0</td>\n",
       "      <td>0</td>\n",
       "      <td>0</td>\n",
       "      <td>0</td>\n",
       "      <td>0</td>\n",
       "      <td>0</td>\n",
       "      <td>0</td>\n",
       "      <td>0</td>\n",
       "      <td>0</td>\n",
       "      <td>0</td>\n",
       "      <td>0</td>\n",
       "      <td>0</td>\n",
       "      <td>0</td>\n",
       "      <td>1</td>\n",
       "      <td>0</td>\n",
       "      <td>0</td>\n",
       "      <td>0</td>\n",
       "      <td>1</td>\n",
       "      <td>0</td>\n",
       "      <td>0</td>\n",
       "    </tr>\n",
       "    <tr>\n",
       "      <th>4</th>\n",
       "      <td>0</td>\n",
       "      <td>14.0</td>\n",
       "      <td>0</td>\n",
       "      <td>2</td>\n",
       "      <td>2</td>\n",
       "      <td>0.0</td>\n",
       "      <td>0</td>\n",
       "      <td>0</td>\n",
       "      <td>0</td>\n",
       "      <td>0</td>\n",
       "      <td>0</td>\n",
       "      <td>0</td>\n",
       "      <td>98.00</td>\n",
       "      <td>0</td>\n",
       "      <td>1</td>\n",
       "      <td>1</td>\n",
       "      <td>0</td>\n",
       "      <td>0</td>\n",
       "      <td>0</td>\n",
       "      <td>0</td>\n",
       "      <td>0</td>\n",
       "      <td>0</td>\n",
       "      <td>0</td>\n",
       "      <td>0</td>\n",
       "      <td>0</td>\n",
       "      <td>1</td>\n",
       "      <td>0</td>\n",
       "      <td>0</td>\n",
       "      <td>0</td>\n",
       "      <td>0</td>\n",
       "      <td>0</td>\n",
       "      <td>0</td>\n",
       "      <td>0</td>\n",
       "      <td>0</td>\n",
       "      <td>0</td>\n",
       "      <td>0</td>\n",
       "      <td>0</td>\n",
       "      <td>0</td>\n",
       "      <td>0</td>\n",
       "      <td>0</td>\n",
       "      <td>0</td>\n",
       "      <td>0</td>\n",
       "      <td>0</td>\n",
       "      <td>0</td>\n",
       "      <td>0</td>\n",
       "      <td>0</td>\n",
       "      <td>0</td>\n",
       "      <td>0</td>\n",
       "      <td>0</td>\n",
       "      <td>0</td>\n",
       "      <td>1</td>\n",
       "      <td>0</td>\n",
       "      <td>0</td>\n",
       "      <td>0</td>\n",
       "      <td>1</td>\n",
       "      <td>0</td>\n",
       "      <td>0</td>\n",
       "    </tr>\n",
       "    <tr>\n",
       "      <th>...</th>\n",
       "      <td>...</td>\n",
       "      <td>...</td>\n",
       "      <td>...</td>\n",
       "      <td>...</td>\n",
       "      <td>...</td>\n",
       "      <td>...</td>\n",
       "      <td>...</td>\n",
       "      <td>...</td>\n",
       "      <td>...</td>\n",
       "      <td>...</td>\n",
       "      <td>...</td>\n",
       "      <td>...</td>\n",
       "      <td>...</td>\n",
       "      <td>...</td>\n",
       "      <td>...</td>\n",
       "      <td>...</td>\n",
       "      <td>...</td>\n",
       "      <td>...</td>\n",
       "      <td>...</td>\n",
       "      <td>...</td>\n",
       "      <td>...</td>\n",
       "      <td>...</td>\n",
       "      <td>...</td>\n",
       "      <td>...</td>\n",
       "      <td>...</td>\n",
       "      <td>...</td>\n",
       "      <td>...</td>\n",
       "      <td>...</td>\n",
       "      <td>...</td>\n",
       "      <td>...</td>\n",
       "      <td>...</td>\n",
       "      <td>...</td>\n",
       "      <td>...</td>\n",
       "      <td>...</td>\n",
       "      <td>...</td>\n",
       "      <td>...</td>\n",
       "      <td>...</td>\n",
       "      <td>...</td>\n",
       "      <td>...</td>\n",
       "      <td>...</td>\n",
       "      <td>...</td>\n",
       "      <td>...</td>\n",
       "      <td>...</td>\n",
       "      <td>...</td>\n",
       "      <td>...</td>\n",
       "      <td>...</td>\n",
       "      <td>...</td>\n",
       "      <td>...</td>\n",
       "      <td>...</td>\n",
       "      <td>...</td>\n",
       "      <td>...</td>\n",
       "      <td>...</td>\n",
       "      <td>...</td>\n",
       "      <td>...</td>\n",
       "      <td>...</td>\n",
       "      <td>...</td>\n",
       "      <td>...</td>\n",
       "    </tr>\n",
       "    <tr>\n",
       "      <th>119385</th>\n",
       "      <td>0</td>\n",
       "      <td>23.0</td>\n",
       "      <td>2</td>\n",
       "      <td>5</td>\n",
       "      <td>2</td>\n",
       "      <td>0.0</td>\n",
       "      <td>0</td>\n",
       "      <td>0</td>\n",
       "      <td>0</td>\n",
       "      <td>0</td>\n",
       "      <td>0</td>\n",
       "      <td>0</td>\n",
       "      <td>96.14</td>\n",
       "      <td>0</td>\n",
       "      <td>0</td>\n",
       "      <td>0</td>\n",
       "      <td>0</td>\n",
       "      <td>0</td>\n",
       "      <td>0</td>\n",
       "      <td>0</td>\n",
       "      <td>0</td>\n",
       "      <td>0</td>\n",
       "      <td>0</td>\n",
       "      <td>0</td>\n",
       "      <td>1</td>\n",
       "      <td>0</td>\n",
       "      <td>0</td>\n",
       "      <td>0</td>\n",
       "      <td>0</td>\n",
       "      <td>0</td>\n",
       "      <td>0</td>\n",
       "      <td>0</td>\n",
       "      <td>0</td>\n",
       "      <td>0</td>\n",
       "      <td>0</td>\n",
       "      <td>0</td>\n",
       "      <td>0</td>\n",
       "      <td>0</td>\n",
       "      <td>0</td>\n",
       "      <td>0</td>\n",
       "      <td>0</td>\n",
       "      <td>0</td>\n",
       "      <td>0</td>\n",
       "      <td>0</td>\n",
       "      <td>0</td>\n",
       "      <td>0</td>\n",
       "      <td>0</td>\n",
       "      <td>0</td>\n",
       "      <td>0</td>\n",
       "      <td>0</td>\n",
       "      <td>1</td>\n",
       "      <td>0</td>\n",
       "      <td>0</td>\n",
       "      <td>0</td>\n",
       "      <td>1</td>\n",
       "      <td>0</td>\n",
       "      <td>0</td>\n",
       "    </tr>\n",
       "    <tr>\n",
       "      <th>119386</th>\n",
       "      <td>0</td>\n",
       "      <td>102.0</td>\n",
       "      <td>2</td>\n",
       "      <td>5</td>\n",
       "      <td>3</td>\n",
       "      <td>0.0</td>\n",
       "      <td>0</td>\n",
       "      <td>0</td>\n",
       "      <td>0</td>\n",
       "      <td>0</td>\n",
       "      <td>0</td>\n",
       "      <td>0</td>\n",
       "      <td>225.43</td>\n",
       "      <td>0</td>\n",
       "      <td>2</td>\n",
       "      <td>0</td>\n",
       "      <td>0</td>\n",
       "      <td>0</td>\n",
       "      <td>0</td>\n",
       "      <td>0</td>\n",
       "      <td>0</td>\n",
       "      <td>0</td>\n",
       "      <td>0</td>\n",
       "      <td>0</td>\n",
       "      <td>0</td>\n",
       "      <td>1</td>\n",
       "      <td>0</td>\n",
       "      <td>0</td>\n",
       "      <td>0</td>\n",
       "      <td>0</td>\n",
       "      <td>1</td>\n",
       "      <td>0</td>\n",
       "      <td>0</td>\n",
       "      <td>0</td>\n",
       "      <td>0</td>\n",
       "      <td>0</td>\n",
       "      <td>0</td>\n",
       "      <td>0</td>\n",
       "      <td>0</td>\n",
       "      <td>1</td>\n",
       "      <td>0</td>\n",
       "      <td>0</td>\n",
       "      <td>0</td>\n",
       "      <td>0</td>\n",
       "      <td>0</td>\n",
       "      <td>0</td>\n",
       "      <td>0</td>\n",
       "      <td>0</td>\n",
       "      <td>0</td>\n",
       "      <td>0</td>\n",
       "      <td>1</td>\n",
       "      <td>0</td>\n",
       "      <td>0</td>\n",
       "      <td>0</td>\n",
       "      <td>1</td>\n",
       "      <td>0</td>\n",
       "      <td>0</td>\n",
       "    </tr>\n",
       "    <tr>\n",
       "      <th>119387</th>\n",
       "      <td>0</td>\n",
       "      <td>34.0</td>\n",
       "      <td>2</td>\n",
       "      <td>5</td>\n",
       "      <td>2</td>\n",
       "      <td>0.0</td>\n",
       "      <td>0</td>\n",
       "      <td>0</td>\n",
       "      <td>0</td>\n",
       "      <td>0</td>\n",
       "      <td>0</td>\n",
       "      <td>0</td>\n",
       "      <td>157.71</td>\n",
       "      <td>0</td>\n",
       "      <td>4</td>\n",
       "      <td>0</td>\n",
       "      <td>0</td>\n",
       "      <td>0</td>\n",
       "      <td>0</td>\n",
       "      <td>0</td>\n",
       "      <td>0</td>\n",
       "      <td>0</td>\n",
       "      <td>0</td>\n",
       "      <td>0</td>\n",
       "      <td>0</td>\n",
       "      <td>1</td>\n",
       "      <td>0</td>\n",
       "      <td>0</td>\n",
       "      <td>0</td>\n",
       "      <td>1</td>\n",
       "      <td>0</td>\n",
       "      <td>0</td>\n",
       "      <td>0</td>\n",
       "      <td>0</td>\n",
       "      <td>0</td>\n",
       "      <td>0</td>\n",
       "      <td>0</td>\n",
       "      <td>0</td>\n",
       "      <td>1</td>\n",
       "      <td>0</td>\n",
       "      <td>0</td>\n",
       "      <td>0</td>\n",
       "      <td>0</td>\n",
       "      <td>0</td>\n",
       "      <td>0</td>\n",
       "      <td>0</td>\n",
       "      <td>0</td>\n",
       "      <td>0</td>\n",
       "      <td>0</td>\n",
       "      <td>0</td>\n",
       "      <td>1</td>\n",
       "      <td>0</td>\n",
       "      <td>0</td>\n",
       "      <td>0</td>\n",
       "      <td>1</td>\n",
       "      <td>0</td>\n",
       "      <td>0</td>\n",
       "    </tr>\n",
       "    <tr>\n",
       "      <th>119388</th>\n",
       "      <td>0</td>\n",
       "      <td>109.0</td>\n",
       "      <td>2</td>\n",
       "      <td>5</td>\n",
       "      <td>2</td>\n",
       "      <td>0.0</td>\n",
       "      <td>0</td>\n",
       "      <td>0</td>\n",
       "      <td>0</td>\n",
       "      <td>0</td>\n",
       "      <td>0</td>\n",
       "      <td>0</td>\n",
       "      <td>104.40</td>\n",
       "      <td>0</td>\n",
       "      <td>0</td>\n",
       "      <td>0</td>\n",
       "      <td>0</td>\n",
       "      <td>0</td>\n",
       "      <td>0</td>\n",
       "      <td>0</td>\n",
       "      <td>0</td>\n",
       "      <td>0</td>\n",
       "      <td>0</td>\n",
       "      <td>0</td>\n",
       "      <td>0</td>\n",
       "      <td>1</td>\n",
       "      <td>0</td>\n",
       "      <td>0</td>\n",
       "      <td>0</td>\n",
       "      <td>0</td>\n",
       "      <td>0</td>\n",
       "      <td>0</td>\n",
       "      <td>0</td>\n",
       "      <td>0</td>\n",
       "      <td>0</td>\n",
       "      <td>0</td>\n",
       "      <td>0</td>\n",
       "      <td>0</td>\n",
       "      <td>0</td>\n",
       "      <td>0</td>\n",
       "      <td>0</td>\n",
       "      <td>0</td>\n",
       "      <td>0</td>\n",
       "      <td>0</td>\n",
       "      <td>0</td>\n",
       "      <td>0</td>\n",
       "      <td>0</td>\n",
       "      <td>0</td>\n",
       "      <td>0</td>\n",
       "      <td>0</td>\n",
       "      <td>1</td>\n",
       "      <td>0</td>\n",
       "      <td>0</td>\n",
       "      <td>0</td>\n",
       "      <td>1</td>\n",
       "      <td>0</td>\n",
       "      <td>0</td>\n",
       "    </tr>\n",
       "    <tr>\n",
       "      <th>119389</th>\n",
       "      <td>0</td>\n",
       "      <td>205.0</td>\n",
       "      <td>2</td>\n",
       "      <td>7</td>\n",
       "      <td>2</td>\n",
       "      <td>0.0</td>\n",
       "      <td>0</td>\n",
       "      <td>0</td>\n",
       "      <td>0</td>\n",
       "      <td>0</td>\n",
       "      <td>0</td>\n",
       "      <td>0</td>\n",
       "      <td>151.20</td>\n",
       "      <td>0</td>\n",
       "      <td>2</td>\n",
       "      <td>0</td>\n",
       "      <td>0</td>\n",
       "      <td>1</td>\n",
       "      <td>0</td>\n",
       "      <td>0</td>\n",
       "      <td>0</td>\n",
       "      <td>0</td>\n",
       "      <td>0</td>\n",
       "      <td>0</td>\n",
       "      <td>0</td>\n",
       "      <td>1</td>\n",
       "      <td>0</td>\n",
       "      <td>0</td>\n",
       "      <td>0</td>\n",
       "      <td>0</td>\n",
       "      <td>0</td>\n",
       "      <td>0</td>\n",
       "      <td>0</td>\n",
       "      <td>0</td>\n",
       "      <td>0</td>\n",
       "      <td>0</td>\n",
       "      <td>0</td>\n",
       "      <td>0</td>\n",
       "      <td>0</td>\n",
       "      <td>0</td>\n",
       "      <td>0</td>\n",
       "      <td>0</td>\n",
       "      <td>0</td>\n",
       "      <td>0</td>\n",
       "      <td>0</td>\n",
       "      <td>0</td>\n",
       "      <td>0</td>\n",
       "      <td>0</td>\n",
       "      <td>0</td>\n",
       "      <td>0</td>\n",
       "      <td>1</td>\n",
       "      <td>0</td>\n",
       "      <td>0</td>\n",
       "      <td>0</td>\n",
       "      <td>1</td>\n",
       "      <td>0</td>\n",
       "      <td>0</td>\n",
       "    </tr>\n",
       "  </tbody>\n",
       "</table>\n",
       "<p>119390 rows × 57 columns</p>\n",
       "</div>"
      ],
      "text/plain": [
       "        is_canceled  lead_time  stays_in_weekend_nights  stays_in_week_nights  \\\n",
       "0                 0      320.0                        0                     0   \n",
       "1                 0      320.0                        0                     0   \n",
       "2                 0        7.0                        0                     1   \n",
       "3                 0       13.0                        0                     1   \n",
       "4                 0       14.0                        0                     2   \n",
       "...             ...        ...                      ...                   ...   \n",
       "119385            0       23.0                        2                     5   \n",
       "119386            0      102.0                        2                     5   \n",
       "119387            0       34.0                        2                     5   \n",
       "119388            0      109.0                        2                     5   \n",
       "119389            0      205.0                        2                     7   \n",
       "\n",
       "        adults  children  babies  is_repeated_guest  previous_cancellations  \\\n",
       "0            2       0.0       0                  0                       0   \n",
       "1            2       0.0       0                  0                       0   \n",
       "2            1       0.0       0                  0                       0   \n",
       "3            1       0.0       0                  0                       0   \n",
       "4            2       0.0       0                  0                       0   \n",
       "...        ...       ...     ...                ...                     ...   \n",
       "119385       2       0.0       0                  0                       0   \n",
       "119386       3       0.0       0                  0                       0   \n",
       "119387       2       0.0       0                  0                       0   \n",
       "119388       2       0.0       0                  0                       0   \n",
       "119389       2       0.0       0                  0                       0   \n",
       "\n",
       "        previous_bookings_not_canceled  booking_changes  days_in_waiting_list  \\\n",
       "0                                    0                3                     0   \n",
       "1                                    0                4                     0   \n",
       "2                                    0                0                     0   \n",
       "3                                    0                0                     0   \n",
       "4                                    0                0                     0   \n",
       "...                                ...              ...                   ...   \n",
       "119385                               0                0                     0   \n",
       "119386                               0                0                     0   \n",
       "119387                               0                0                     0   \n",
       "119388                               0                0                     0   \n",
       "119389                               0                0                     0   \n",
       "\n",
       "           adr  required_car_parking_spaces  total_of_special_requests  \\\n",
       "0         0.00                            0                          0   \n",
       "1         0.00                            0                          0   \n",
       "2        75.00                            0                          0   \n",
       "3        75.00                            0                          0   \n",
       "4        98.00                            0                          1   \n",
       "...        ...                          ...                        ...   \n",
       "119385   96.14                            0                          0   \n",
       "119386  225.43                            0                          2   \n",
       "119387  157.71                            0                          4   \n",
       "119388  104.40                            0                          0   \n",
       "119389  151.20                            0                          2   \n",
       "\n",
       "        hotel_Resort Hotel  meal_FB  meal_HB  meal_SC  meal_Undefined  \\\n",
       "0                        1        0        0        0               0   \n",
       "1                        1        0        0        0               0   \n",
       "2                        1        0        0        0               0   \n",
       "3                        1        0        0        0               0   \n",
       "4                        1        0        0        0               0   \n",
       "...                    ...      ...      ...      ...             ...   \n",
       "119385                   0        0        0        0               0   \n",
       "119386                   0        0        0        0               0   \n",
       "119387                   0        0        0        0               0   \n",
       "119388                   0        0        0        0               0   \n",
       "119389                   0        0        1        0               0   \n",
       "\n",
       "        market_segment_Complementary  market_segment_Corporate  \\\n",
       "0                                  0                         0   \n",
       "1                                  0                         0   \n",
       "2                                  0                         0   \n",
       "3                                  0                         1   \n",
       "4                                  0                         0   \n",
       "...                              ...                       ...   \n",
       "119385                             0                         0   \n",
       "119386                             0                         0   \n",
       "119387                             0                         0   \n",
       "119388                             0                         0   \n",
       "119389                             0                         0   \n",
       "\n",
       "        market_segment_Direct  market_segment_Groups  \\\n",
       "0                           1                      0   \n",
       "1                           1                      0   \n",
       "2                           1                      0   \n",
       "3                           0                      0   \n",
       "4                           0                      0   \n",
       "...                       ...                    ...   \n",
       "119385                      0                      0   \n",
       "119386                      0                      0   \n",
       "119387                      0                      0   \n",
       "119388                      0                      0   \n",
       "119389                      0                      0   \n",
       "\n",
       "        market_segment_Offline TA/TO  market_segment_Online TA  \\\n",
       "0                                  0                         0   \n",
       "1                                  0                         0   \n",
       "2                                  0                         0   \n",
       "3                                  0                         0   \n",
       "4                                  0                         1   \n",
       "...                              ...                       ...   \n",
       "119385                             1                         0   \n",
       "119386                             0                         1   \n",
       "119387                             0                         1   \n",
       "119388                             0                         1   \n",
       "119389                             0                         1   \n",
       "\n",
       "        market_segment_Undefined  reserved_room_type_B  reserved_room_type_C  \\\n",
       "0                              0                     0                     1   \n",
       "1                              0                     0                     1   \n",
       "2                              0                     0                     0   \n",
       "3                              0                     0                     0   \n",
       "4                              0                     0                     0   \n",
       "...                          ...                   ...                   ...   \n",
       "119385                         0                     0                     0   \n",
       "119386                         0                     0                     0   \n",
       "119387                         0                     0                     0   \n",
       "119388                         0                     0                     0   \n",
       "119389                         0                     0                     0   \n",
       "\n",
       "        reserved_room_type_D  reserved_room_type_E  reserved_room_type_F  \\\n",
       "0                          0                     0                     0   \n",
       "1                          0                     0                     0   \n",
       "2                          0                     0                     0   \n",
       "3                          0                     0                     0   \n",
       "4                          0                     0                     0   \n",
       "...                      ...                   ...                   ...   \n",
       "119385                     0                     0                     0   \n",
       "119386                     0                     1                     0   \n",
       "119387                     1                     0                     0   \n",
       "119388                     0                     0                     0   \n",
       "119389                     0                     0                     0   \n",
       "\n",
       "        reserved_room_type_G  reserved_room_type_H  reserved_room_type_L  \\\n",
       "0                          0                     0                     0   \n",
       "1                          0                     0                     0   \n",
       "2                          0                     0                     0   \n",
       "3                          0                     0                     0   \n",
       "4                          0                     0                     0   \n",
       "...                      ...                   ...                   ...   \n",
       "119385                     0                     0                     0   \n",
       "119386                     0                     0                     0   \n",
       "119387                     0                     0                     0   \n",
       "119388                     0                     0                     0   \n",
       "119389                     0                     0                     0   \n",
       "\n",
       "        reserved_room_type_P  assigned_room_type_B  assigned_room_type_C  \\\n",
       "0                          0                     0                     1   \n",
       "1                          0                     0                     1   \n",
       "2                          0                     0                     1   \n",
       "3                          0                     0                     0   \n",
       "4                          0                     0                     0   \n",
       "...                      ...                   ...                   ...   \n",
       "119385                     0                     0                     0   \n",
       "119386                     0                     0                     0   \n",
       "119387                     0                     0                     0   \n",
       "119388                     0                     0                     0   \n",
       "119389                     0                     0                     0   \n",
       "\n",
       "        assigned_room_type_D  assigned_room_type_E  assigned_room_type_F  \\\n",
       "0                          0                     0                     0   \n",
       "1                          0                     0                     0   \n",
       "2                          0                     0                     0   \n",
       "3                          0                     0                     0   \n",
       "4                          0                     0                     0   \n",
       "...                      ...                   ...                   ...   \n",
       "119385                     0                     0                     0   \n",
       "119386                     0                     1                     0   \n",
       "119387                     1                     0                     0   \n",
       "119388                     0                     0                     0   \n",
       "119389                     0                     0                     0   \n",
       "\n",
       "        assigned_room_type_G  assigned_room_type_H  assigned_room_type_I  \\\n",
       "0                          0                     0                     0   \n",
       "1                          0                     0                     0   \n",
       "2                          0                     0                     0   \n",
       "3                          0                     0                     0   \n",
       "4                          0                     0                     0   \n",
       "...                      ...                   ...                   ...   \n",
       "119385                     0                     0                     0   \n",
       "119386                     0                     0                     0   \n",
       "119387                     0                     0                     0   \n",
       "119388                     0                     0                     0   \n",
       "119389                     0                     0                     0   \n",
       "\n",
       "        assigned_room_type_K  assigned_room_type_L  assigned_room_type_P  \\\n",
       "0                          0                     0                     0   \n",
       "1                          0                     0                     0   \n",
       "2                          0                     0                     0   \n",
       "3                          0                     0                     0   \n",
       "4                          0                     0                     0   \n",
       "...                      ...                   ...                   ...   \n",
       "119385                     0                     0                     0   \n",
       "119386                     0                     0                     0   \n",
       "119387                     0                     0                     0   \n",
       "119388                     0                     0                     0   \n",
       "119389                     0                     0                     0   \n",
       "\n",
       "        deposit_type_Non Refund  deposit_type_Refundable  customer_type_Group  \\\n",
       "0                             0                        0                    0   \n",
       "1                             0                        0                    0   \n",
       "2                             0                        0                    0   \n",
       "3                             0                        0                    0   \n",
       "4                             0                        0                    0   \n",
       "...                         ...                      ...                  ...   \n",
       "119385                        0                        0                    0   \n",
       "119386                        0                        0                    0   \n",
       "119387                        0                        0                    0   \n",
       "119388                        0                        0                    0   \n",
       "119389                        0                        0                    0   \n",
       "\n",
       "        customer_type_Transient  customer_type_Transient-Party  \\\n",
       "0                             1                              0   \n",
       "1                             1                              0   \n",
       "2                             1                              0   \n",
       "3                             1                              0   \n",
       "4                             1                              0   \n",
       "...                         ...                            ...   \n",
       "119385                        1                              0   \n",
       "119386                        1                              0   \n",
       "119387                        1                              0   \n",
       "119388                        1                              0   \n",
       "119389                        1                              0   \n",
       "\n",
       "        Region_Americas  Region_Asia  Region_Europe  Region_Oceania  \\\n",
       "0                     0            0              1               0   \n",
       "1                     0            0              1               0   \n",
       "2                     0            0              1               0   \n",
       "3                     0            0              1               0   \n",
       "4                     0            0              1               0   \n",
       "...                 ...          ...            ...             ...   \n",
       "119385                0            0              1               0   \n",
       "119386                0            0              1               0   \n",
       "119387                0            0              1               0   \n",
       "119388                0            0              1               0   \n",
       "119389                0            0              1               0   \n",
       "\n",
       "        Region_Unspecified  \n",
       "0                        0  \n",
       "1                        0  \n",
       "2                        0  \n",
       "3                        0  \n",
       "4                        0  \n",
       "...                    ...  \n",
       "119385                   0  \n",
       "119386                   0  \n",
       "119387                   0  \n",
       "119388                   0  \n",
       "119389                   0  \n",
       "\n",
       "[119390 rows x 57 columns]"
      ]
     },
     "metadata": {},
     "output_type": "display_data"
    }
   ],
   "source": [
    "with pd.option_context('display.max_rows', 15, 'display.max_columns', None): \n",
    "    display(data_inc_dummies)"
   ]
  },
  {
   "cell_type": "code",
   "execution_count": 40,
   "metadata": {},
   "outputs": [],
   "source": [
    "#Create checkpoint\n",
    "data_preprocessed = data_inc_dummies.copy()"
   ]
  },
  {
   "cell_type": "markdown",
   "metadata": {},
   "source": [
    "### 2.2 Balance the dataset"
   ]
  },
  {
   "cell_type": "code",
   "execution_count": 41,
   "metadata": {},
   "outputs": [
    {
     "data": {
      "text/plain": [
       "0.37041628277075134"
      ]
     },
     "execution_count": 41,
     "metadata": {},
     "output_type": "execute_result"
    }
   ],
   "source": [
    "# Based on EDA, we're aware dataset isn't balanced. There are less cancelled bookings (37%) than non-cancelled bookings.\n",
    "# Let's remind ourselves of the split again\n",
    "data_preprocessed.is_canceled.sum()/data_preprocessed.is_canceled.shape[0]"
   ]
  },
  {
   "cell_type": "markdown",
   "metadata": {},
   "source": [
    "###### The aim is to have a \"balanced\" dataset, therefore some input/target pairs would have to be removed."
   ]
  },
  {
   "cell_type": "code",
   "execution_count": 42,
   "metadata": {},
   "outputs": [],
   "source": [
    "# First split data between cancelled and non-cancelled\n",
    "cancelled_data_all = data_preprocessed[data_preprocessed.is_canceled == 1]\n",
    "confirmed_data_all = data_preprocessed[data_preprocessed.is_canceled == 0]"
   ]
  },
  {
   "cell_type": "code",
   "execution_count": 43,
   "metadata": {},
   "outputs": [],
   "source": [
    "# Next, determine the difference between the two subsets\n",
    "to_remove = cancelled_data_all.shape[0] - confirmed_data_all.shape[0]"
   ]
  },
  {
   "cell_type": "code",
   "execution_count": 44,
   "metadata": {},
   "outputs": [],
   "source": [
    "# Then, remove some data in non-cancelled data, equal to the difference between the two subsets\n",
    "confirmed_data_all = confirmed_data_all[:to_remove]"
   ]
  },
  {
   "cell_type": "code",
   "execution_count": 45,
   "metadata": {
    "scrolled": true
   },
   "outputs": [
    {
     "name": "stdout",
     "output_type": "stream",
     "text": [
      "(44224, 57) (44224, 57)\n"
     ]
    }
   ],
   "source": [
    "print(confirmed_data_all.shape,confirmed_data_all.shape)"
   ]
  },
  {
   "cell_type": "code",
   "execution_count": 46,
   "metadata": {},
   "outputs": [
    {
     "data": {
      "text/plain": [
       "0.5"
      ]
     },
     "execution_count": 46,
     "metadata": {},
     "output_type": "execute_result"
    }
   ],
   "source": [
    "# Finally, it's time to merge the subsets into a balanced dataset\n",
    "balanced_dataset = pd.concat([cancelled_data_all, confirmed_data_all]\n",
    "                             #, sort=True\n",
    "                             #, ignore_index=True\n",
    "                            )\n",
    "\n",
    "# And confirm the dataset is balanced:\n",
    "balanced_dataset.is_canceled.sum()/balanced_dataset.is_canceled.shape[0]"
   ]
  },
  {
   "cell_type": "markdown",
   "metadata": {},
   "source": [
    "###### Split the dataset between inputs and targets"
   ]
  },
  {
   "cell_type": "code",
   "execution_count": 47,
   "metadata": {},
   "outputs": [
    {
     "data": {
      "text/plain": [
       "Index(['is_canceled', 'lead_time', 'stays_in_weekend_nights',\n",
       "       'stays_in_week_nights', 'adults', 'children', 'babies',\n",
       "       'is_repeated_guest', 'previous_cancellations',\n",
       "       'previous_bookings_not_canceled', 'booking_changes',\n",
       "       'days_in_waiting_list', 'adr', 'required_car_parking_spaces',\n",
       "       'total_of_special_requests', 'hotel_Resort Hotel', 'meal_FB', 'meal_HB',\n",
       "       'meal_SC', 'meal_Undefined', 'market_segment_Complementary',\n",
       "       'market_segment_Corporate', 'market_segment_Direct',\n",
       "       'market_segment_Groups', 'market_segment_Offline TA/TO',\n",
       "       'market_segment_Online TA', 'market_segment_Undefined',\n",
       "       'reserved_room_type_B', 'reserved_room_type_C', 'reserved_room_type_D',\n",
       "       'reserved_room_type_E', 'reserved_room_type_F', 'reserved_room_type_G',\n",
       "       'reserved_room_type_H', 'reserved_room_type_L', 'reserved_room_type_P',\n",
       "       'assigned_room_type_B', 'assigned_room_type_C', 'assigned_room_type_D',\n",
       "       'assigned_room_type_E', 'assigned_room_type_F', 'assigned_room_type_G',\n",
       "       'assigned_room_type_H', 'assigned_room_type_I', 'assigned_room_type_K',\n",
       "       'assigned_room_type_L', 'assigned_room_type_P',\n",
       "       'deposit_type_Non Refund', 'deposit_type_Refundable',\n",
       "       'customer_type_Group', 'customer_type_Transient',\n",
       "       'customer_type_Transient-Party', 'Region_Americas', 'Region_Asia',\n",
       "       'Region_Europe', 'Region_Oceania', 'Region_Unspecified'],\n",
       "      dtype='object')"
      ]
     },
     "execution_count": 47,
     "metadata": {},
     "output_type": "execute_result"
    }
   ],
   "source": [
    "# Let's get a list of all columns, in order to rearrange them\n",
    "balanced_dataset.columns"
   ]
  },
  {
   "cell_type": "code",
   "execution_count": 48,
   "metadata": {},
   "outputs": [
    {
     "data": {
      "text/html": [
       "<div>\n",
       "<style scoped>\n",
       "    .dataframe tbody tr th:only-of-type {\n",
       "        vertical-align: middle;\n",
       "    }\n",
       "\n",
       "    .dataframe tbody tr th {\n",
       "        vertical-align: top;\n",
       "    }\n",
       "\n",
       "    .dataframe thead th {\n",
       "        text-align: right;\n",
       "    }\n",
       "</style>\n",
       "<table border=\"1\" class=\"dataframe\">\n",
       "  <thead>\n",
       "    <tr style=\"text-align: right;\">\n",
       "      <th></th>\n",
       "      <th>is_canceled</th>\n",
       "      <th>Region_Americas</th>\n",
       "      <th>Region_Asia</th>\n",
       "      <th>Region_Europe</th>\n",
       "      <th>Region_Oceania</th>\n",
       "      <th>Region_Unspecified</th>\n",
       "      <th>adr</th>\n",
       "      <th>adults</th>\n",
       "      <th>assigned_room_type_B</th>\n",
       "      <th>assigned_room_type_C</th>\n",
       "      <th>assigned_room_type_D</th>\n",
       "      <th>assigned_room_type_E</th>\n",
       "      <th>assigned_room_type_F</th>\n",
       "      <th>assigned_room_type_G</th>\n",
       "      <th>assigned_room_type_H</th>\n",
       "      <th>assigned_room_type_I</th>\n",
       "      <th>assigned_room_type_K</th>\n",
       "      <th>assigned_room_type_L</th>\n",
       "      <th>assigned_room_type_P</th>\n",
       "      <th>babies</th>\n",
       "      <th>booking_changes</th>\n",
       "      <th>children</th>\n",
       "      <th>customer_type_Group</th>\n",
       "      <th>customer_type_Transient</th>\n",
       "      <th>customer_type_Transient-Party</th>\n",
       "      <th>days_in_waiting_list</th>\n",
       "      <th>deposit_type_Non Refund</th>\n",
       "      <th>deposit_type_Refundable</th>\n",
       "      <th>hotel_Resort Hotel</th>\n",
       "      <th>is_repeated_guest</th>\n",
       "      <th>lead_time</th>\n",
       "      <th>market_segment_Complementary</th>\n",
       "      <th>market_segment_Corporate</th>\n",
       "      <th>market_segment_Direct</th>\n",
       "      <th>market_segment_Groups</th>\n",
       "      <th>market_segment_Offline TA/TO</th>\n",
       "      <th>market_segment_Online TA</th>\n",
       "      <th>market_segment_Undefined</th>\n",
       "      <th>meal_FB</th>\n",
       "      <th>meal_HB</th>\n",
       "      <th>meal_SC</th>\n",
       "      <th>meal_Undefined</th>\n",
       "      <th>previous_bookings_not_canceled</th>\n",
       "      <th>previous_cancellations</th>\n",
       "      <th>required_car_parking_spaces</th>\n",
       "      <th>reserved_room_type_B</th>\n",
       "      <th>reserved_room_type_C</th>\n",
       "      <th>reserved_room_type_D</th>\n",
       "      <th>reserved_room_type_E</th>\n",
       "      <th>reserved_room_type_F</th>\n",
       "      <th>reserved_room_type_G</th>\n",
       "      <th>reserved_room_type_H</th>\n",
       "      <th>reserved_room_type_L</th>\n",
       "      <th>reserved_room_type_P</th>\n",
       "      <th>stays_in_week_nights</th>\n",
       "      <th>stays_in_weekend_nights</th>\n",
       "      <th>total_of_special_requests</th>\n",
       "    </tr>\n",
       "  </thead>\n",
       "  <tbody>\n",
       "    <tr>\n",
       "      <th>8</th>\n",
       "      <td>1</td>\n",
       "      <td>85.0</td>\n",
       "      <td>0</td>\n",
       "      <td>3</td>\n",
       "      <td>2</td>\n",
       "      <td>0.0</td>\n",
       "      <td>0</td>\n",
       "      <td>0</td>\n",
       "      <td>0</td>\n",
       "      <td>0</td>\n",
       "      <td>0</td>\n",
       "      <td>0</td>\n",
       "      <td>82.0</td>\n",
       "      <td>0</td>\n",
       "      <td>1</td>\n",
       "      <td>1</td>\n",
       "      <td>0</td>\n",
       "      <td>0</td>\n",
       "      <td>0</td>\n",
       "      <td>0</td>\n",
       "      <td>0</td>\n",
       "      <td>0</td>\n",
       "      <td>0</td>\n",
       "      <td>0</td>\n",
       "      <td>0</td>\n",
       "      <td>1</td>\n",
       "      <td>0</td>\n",
       "      <td>0</td>\n",
       "      <td>0</td>\n",
       "      <td>0</td>\n",
       "      <td>0</td>\n",
       "      <td>0</td>\n",
       "      <td>0</td>\n",
       "      <td>0</td>\n",
       "      <td>0</td>\n",
       "      <td>0</td>\n",
       "      <td>0</td>\n",
       "      <td>0</td>\n",
       "      <td>0</td>\n",
       "      <td>0</td>\n",
       "      <td>0</td>\n",
       "      <td>0</td>\n",
       "      <td>0</td>\n",
       "      <td>0</td>\n",
       "      <td>0</td>\n",
       "      <td>0</td>\n",
       "      <td>0</td>\n",
       "      <td>0</td>\n",
       "      <td>0</td>\n",
       "      <td>0</td>\n",
       "      <td>1</td>\n",
       "      <td>0</td>\n",
       "      <td>0</td>\n",
       "      <td>0</td>\n",
       "      <td>1</td>\n",
       "      <td>0</td>\n",
       "      <td>0</td>\n",
       "    </tr>\n",
       "    <tr>\n",
       "      <th>9</th>\n",
       "      <td>1</td>\n",
       "      <td>75.0</td>\n",
       "      <td>0</td>\n",
       "      <td>3</td>\n",
       "      <td>2</td>\n",
       "      <td>0.0</td>\n",
       "      <td>0</td>\n",
       "      <td>0</td>\n",
       "      <td>0</td>\n",
       "      <td>0</td>\n",
       "      <td>0</td>\n",
       "      <td>0</td>\n",
       "      <td>105.5</td>\n",
       "      <td>0</td>\n",
       "      <td>0</td>\n",
       "      <td>1</td>\n",
       "      <td>0</td>\n",
       "      <td>1</td>\n",
       "      <td>0</td>\n",
       "      <td>0</td>\n",
       "      <td>0</td>\n",
       "      <td>0</td>\n",
       "      <td>0</td>\n",
       "      <td>0</td>\n",
       "      <td>1</td>\n",
       "      <td>0</td>\n",
       "      <td>0</td>\n",
       "      <td>0</td>\n",
       "      <td>0</td>\n",
       "      <td>1</td>\n",
       "      <td>0</td>\n",
       "      <td>0</td>\n",
       "      <td>0</td>\n",
       "      <td>0</td>\n",
       "      <td>0</td>\n",
       "      <td>0</td>\n",
       "      <td>0</td>\n",
       "      <td>0</td>\n",
       "      <td>1</td>\n",
       "      <td>0</td>\n",
       "      <td>0</td>\n",
       "      <td>0</td>\n",
       "      <td>0</td>\n",
       "      <td>0</td>\n",
       "      <td>0</td>\n",
       "      <td>0</td>\n",
       "      <td>0</td>\n",
       "      <td>0</td>\n",
       "      <td>0</td>\n",
       "      <td>0</td>\n",
       "      <td>1</td>\n",
       "      <td>0</td>\n",
       "      <td>0</td>\n",
       "      <td>0</td>\n",
       "      <td>1</td>\n",
       "      <td>0</td>\n",
       "      <td>0</td>\n",
       "    </tr>\n",
       "    <tr>\n",
       "      <th>...</th>\n",
       "      <td>...</td>\n",
       "      <td>...</td>\n",
       "      <td>...</td>\n",
       "      <td>...</td>\n",
       "      <td>...</td>\n",
       "      <td>...</td>\n",
       "      <td>...</td>\n",
       "      <td>...</td>\n",
       "      <td>...</td>\n",
       "      <td>...</td>\n",
       "      <td>...</td>\n",
       "      <td>...</td>\n",
       "      <td>...</td>\n",
       "      <td>...</td>\n",
       "      <td>...</td>\n",
       "      <td>...</td>\n",
       "      <td>...</td>\n",
       "      <td>...</td>\n",
       "      <td>...</td>\n",
       "      <td>...</td>\n",
       "      <td>...</td>\n",
       "      <td>...</td>\n",
       "      <td>...</td>\n",
       "      <td>...</td>\n",
       "      <td>...</td>\n",
       "      <td>...</td>\n",
       "      <td>...</td>\n",
       "      <td>...</td>\n",
       "      <td>...</td>\n",
       "      <td>...</td>\n",
       "      <td>...</td>\n",
       "      <td>...</td>\n",
       "      <td>...</td>\n",
       "      <td>...</td>\n",
       "      <td>...</td>\n",
       "      <td>...</td>\n",
       "      <td>...</td>\n",
       "      <td>...</td>\n",
       "      <td>...</td>\n",
       "      <td>...</td>\n",
       "      <td>...</td>\n",
       "      <td>...</td>\n",
       "      <td>...</td>\n",
       "      <td>...</td>\n",
       "      <td>...</td>\n",
       "      <td>...</td>\n",
       "      <td>...</td>\n",
       "      <td>...</td>\n",
       "      <td>...</td>\n",
       "      <td>...</td>\n",
       "      <td>...</td>\n",
       "      <td>...</td>\n",
       "      <td>...</td>\n",
       "      <td>...</td>\n",
       "      <td>...</td>\n",
       "      <td>...</td>\n",
       "      <td>...</td>\n",
       "    </tr>\n",
       "    <tr>\n",
       "      <th>88400</th>\n",
       "      <td>0</td>\n",
       "      <td>36.0</td>\n",
       "      <td>2</td>\n",
       "      <td>2</td>\n",
       "      <td>3</td>\n",
       "      <td>0.0</td>\n",
       "      <td>0</td>\n",
       "      <td>0</td>\n",
       "      <td>0</td>\n",
       "      <td>0</td>\n",
       "      <td>0</td>\n",
       "      <td>0</td>\n",
       "      <td>159.3</td>\n",
       "      <td>0</td>\n",
       "      <td>3</td>\n",
       "      <td>0</td>\n",
       "      <td>0</td>\n",
       "      <td>0</td>\n",
       "      <td>0</td>\n",
       "      <td>0</td>\n",
       "      <td>0</td>\n",
       "      <td>0</td>\n",
       "      <td>0</td>\n",
       "      <td>0</td>\n",
       "      <td>0</td>\n",
       "      <td>1</td>\n",
       "      <td>0</td>\n",
       "      <td>0</td>\n",
       "      <td>0</td>\n",
       "      <td>1</td>\n",
       "      <td>0</td>\n",
       "      <td>0</td>\n",
       "      <td>0</td>\n",
       "      <td>0</td>\n",
       "      <td>0</td>\n",
       "      <td>0</td>\n",
       "      <td>0</td>\n",
       "      <td>0</td>\n",
       "      <td>1</td>\n",
       "      <td>0</td>\n",
       "      <td>0</td>\n",
       "      <td>0</td>\n",
       "      <td>0</td>\n",
       "      <td>0</td>\n",
       "      <td>0</td>\n",
       "      <td>0</td>\n",
       "      <td>0</td>\n",
       "      <td>0</td>\n",
       "      <td>0</td>\n",
       "      <td>0</td>\n",
       "      <td>1</td>\n",
       "      <td>0</td>\n",
       "      <td>0</td>\n",
       "      <td>0</td>\n",
       "      <td>1</td>\n",
       "      <td>0</td>\n",
       "      <td>0</td>\n",
       "    </tr>\n",
       "    <tr>\n",
       "      <th>88401</th>\n",
       "      <td>0</td>\n",
       "      <td>3.0</td>\n",
       "      <td>1</td>\n",
       "      <td>2</td>\n",
       "      <td>2</td>\n",
       "      <td>0.0</td>\n",
       "      <td>0</td>\n",
       "      <td>0</td>\n",
       "      <td>0</td>\n",
       "      <td>0</td>\n",
       "      <td>2</td>\n",
       "      <td>0</td>\n",
       "      <td>152.0</td>\n",
       "      <td>0</td>\n",
       "      <td>1</td>\n",
       "      <td>0</td>\n",
       "      <td>0</td>\n",
       "      <td>0</td>\n",
       "      <td>0</td>\n",
       "      <td>0</td>\n",
       "      <td>0</td>\n",
       "      <td>0</td>\n",
       "      <td>1</td>\n",
       "      <td>0</td>\n",
       "      <td>0</td>\n",
       "      <td>0</td>\n",
       "      <td>0</td>\n",
       "      <td>0</td>\n",
       "      <td>0</td>\n",
       "      <td>1</td>\n",
       "      <td>0</td>\n",
       "      <td>0</td>\n",
       "      <td>0</td>\n",
       "      <td>0</td>\n",
       "      <td>0</td>\n",
       "      <td>0</td>\n",
       "      <td>0</td>\n",
       "      <td>0</td>\n",
       "      <td>0</td>\n",
       "      <td>0</td>\n",
       "      <td>1</td>\n",
       "      <td>0</td>\n",
       "      <td>0</td>\n",
       "      <td>0</td>\n",
       "      <td>0</td>\n",
       "      <td>0</td>\n",
       "      <td>0</td>\n",
       "      <td>0</td>\n",
       "      <td>0</td>\n",
       "      <td>0</td>\n",
       "      <td>1</td>\n",
       "      <td>0</td>\n",
       "      <td>0</td>\n",
       "      <td>0</td>\n",
       "      <td>1</td>\n",
       "      <td>0</td>\n",
       "      <td>0</td>\n",
       "    </tr>\n",
       "  </tbody>\n",
       "</table>\n",
       "<p>88448 rows × 57 columns</p>\n",
       "</div>"
      ],
      "text/plain": [
       "       is_canceled  Region_Americas  Region_Asia  Region_Europe  \\\n",
       "8                1             85.0            0              3   \n",
       "9                1             75.0            0              3   \n",
       "...            ...              ...          ...            ...   \n",
       "88400            0             36.0            2              2   \n",
       "88401            0              3.0            1              2   \n",
       "\n",
       "       Region_Oceania  Region_Unspecified  adr  adults  assigned_room_type_B  \\\n",
       "8                   2                 0.0    0       0                     0   \n",
       "9                   2                 0.0    0       0                     0   \n",
       "...               ...                 ...  ...     ...                   ...   \n",
       "88400               3                 0.0    0       0                     0   \n",
       "88401               2                 0.0    0       0                     0   \n",
       "\n",
       "       assigned_room_type_C  assigned_room_type_D  assigned_room_type_E  \\\n",
       "8                         0                     0                     0   \n",
       "9                         0                     0                     0   \n",
       "...                     ...                   ...                   ...   \n",
       "88400                     0                     0                     0   \n",
       "88401                     0                     2                     0   \n",
       "\n",
       "       assigned_room_type_F  assigned_room_type_G  assigned_room_type_H  \\\n",
       "8                      82.0                     0                     1   \n",
       "9                     105.5                     0                     0   \n",
       "...                     ...                   ...                   ...   \n",
       "88400                 159.3                     0                     3   \n",
       "88401                 152.0                     0                     1   \n",
       "\n",
       "       assigned_room_type_I  assigned_room_type_K  assigned_room_type_L  \\\n",
       "8                         1                     0                     0   \n",
       "9                         1                     0                     1   \n",
       "...                     ...                   ...                   ...   \n",
       "88400                     0                     0                     0   \n",
       "88401                     0                     0                     0   \n",
       "\n",
       "       assigned_room_type_P  babies  booking_changes  children  \\\n",
       "8                         0       0                0         0   \n",
       "9                         0       0                0         0   \n",
       "...                     ...     ...              ...       ...   \n",
       "88400                     0       0                0         0   \n",
       "88401                     0       0                0         0   \n",
       "\n",
       "       customer_type_Group  customer_type_Transient  \\\n",
       "8                        0                        0   \n",
       "9                        0                        0   \n",
       "...                    ...                      ...   \n",
       "88400                    0                        0   \n",
       "88401                    1                        0   \n",
       "\n",
       "       customer_type_Transient-Party  days_in_waiting_list  \\\n",
       "8                                  0                     1   \n",
       "9                                  1                     0   \n",
       "...                              ...                   ...   \n",
       "88400                              0                     1   \n",
       "88401                              0                     0   \n",
       "\n",
       "       deposit_type_Non Refund  deposit_type_Refundable  hotel_Resort Hotel  \\\n",
       "8                            0                        0                   0   \n",
       "9                            0                        0                   0   \n",
       "...                        ...                      ...                 ...   \n",
       "88400                        0                        0                   0   \n",
       "88401                        0                        0                   0   \n",
       "\n",
       "       is_repeated_guest  lead_time  market_segment_Complementary  \\\n",
       "8                      0          0                             0   \n",
       "9                      1          0                             0   \n",
       "...                  ...        ...                           ...   \n",
       "88400                  1          0                             0   \n",
       "88401                  1          0                             0   \n",
       "\n",
       "       market_segment_Corporate  market_segment_Direct  market_segment_Groups  \\\n",
       "8                             0                      0                      0   \n",
       "9                             0                      0                      0   \n",
       "...                         ...                    ...                    ...   \n",
       "88400                         0                      0                      0   \n",
       "88401                         0                      0                      0   \n",
       "\n",
       "       market_segment_Offline TA/TO  market_segment_Online TA  \\\n",
       "8                                 0                         0   \n",
       "9                                 0                         0   \n",
       "...                             ...                       ...   \n",
       "88400                             0                         0   \n",
       "88401                             0                         0   \n",
       "\n",
       "       market_segment_Undefined  meal_FB  meal_HB  meal_SC  meal_Undefined  \\\n",
       "8                             0        0        0        0               0   \n",
       "9                             0        1        0        0               0   \n",
       "...                         ...      ...      ...      ...             ...   \n",
       "88400                         0        1        0        0               0   \n",
       "88401                         0        0        0        1               0   \n",
       "\n",
       "       previous_bookings_not_canceled  previous_cancellations  \\\n",
       "8                                   0                       0   \n",
       "9                                   0                       0   \n",
       "...                               ...                     ...   \n",
       "88400                               0                       0   \n",
       "88401                               0                       0   \n",
       "\n",
       "       required_car_parking_spaces  reserved_room_type_B  \\\n",
       "8                                0                     0   \n",
       "9                                0                     0   \n",
       "...                            ...                   ...   \n",
       "88400                            0                     0   \n",
       "88401                            0                     0   \n",
       "\n",
       "       reserved_room_type_C  reserved_room_type_D  reserved_room_type_E  \\\n",
       "8                         0                     0                     0   \n",
       "9                         0                     0                     0   \n",
       "...                     ...                   ...                   ...   \n",
       "88400                     0                     0                     0   \n",
       "88401                     0                     0                     0   \n",
       "\n",
       "       reserved_room_type_F  reserved_room_type_G  reserved_room_type_H  \\\n",
       "8                         0                     1                     0   \n",
       "9                         0                     1                     0   \n",
       "...                     ...                   ...                   ...   \n",
       "88400                     0                     1                     0   \n",
       "88401                     0                     1                     0   \n",
       "\n",
       "       reserved_room_type_L  reserved_room_type_P  stays_in_week_nights  \\\n",
       "8                         0                     0                     1   \n",
       "9                         0                     0                     1   \n",
       "...                     ...                   ...                   ...   \n",
       "88400                     0                     0                     1   \n",
       "88401                     0                     0                     1   \n",
       "\n",
       "       stays_in_weekend_nights  total_of_special_requests  \n",
       "8                            0                          0  \n",
       "9                            0                          0  \n",
       "...                        ...                        ...  \n",
       "88400                        0                          0  \n",
       "88401                        0                          0  \n",
       "\n",
       "[88448 rows x 57 columns]"
      ]
     },
     "metadata": {},
     "output_type": "display_data"
    }
   ],
   "source": [
    "# Next, rearrange so that target variable is first in the list\n",
    "balanced_dataset.columns = ['is_canceled', 'Region_Americas', 'Region_Asia', 'Region_Europe', 'Region_Oceania',\n",
    "       'Region_Unspecified', 'adr', 'adults', 'assigned_room_type_B',\n",
    "       'assigned_room_type_C', 'assigned_room_type_D', 'assigned_room_type_E',\n",
    "       'assigned_room_type_F', 'assigned_room_type_G', 'assigned_room_type_H',\n",
    "       'assigned_room_type_I', 'assigned_room_type_K', 'assigned_room_type_L',\n",
    "       'assigned_room_type_P', 'babies', 'booking_changes', 'children',\n",
    "       'customer_type_Group', 'customer_type_Transient',\n",
    "       'customer_type_Transient-Party', 'days_in_waiting_list',\n",
    "       'deposit_type_Non Refund', 'deposit_type_Refundable',\n",
    "       'hotel_Resort Hotel', 'is_repeated_guest', 'lead_time',\n",
    "       'market_segment_Complementary', 'market_segment_Corporate',\n",
    "       'market_segment_Direct', 'market_segment_Groups',\n",
    "       'market_segment_Offline TA/TO', 'market_segment_Online TA',\n",
    "       'market_segment_Undefined', 'meal_FB', 'meal_HB', 'meal_SC',\n",
    "       'meal_Undefined', 'previous_bookings_not_canceled',\n",
    "       'previous_cancellations', 'required_car_parking_spaces',\n",
    "       'reserved_room_type_B', 'reserved_room_type_C', 'reserved_room_type_D',\n",
    "       'reserved_room_type_E', 'reserved_room_type_F', 'reserved_room_type_G',\n",
    "       'reserved_room_type_H', 'reserved_room_type_L', 'reserved_room_type_P',\n",
    "       'stays_in_week_nights', 'stays_in_weekend_nights',\n",
    "       'total_of_special_requests']\n",
    "\n",
    "with pd.option_context('display.max_rows', 5, 'display.max_columns', None): \n",
    "    display(balanced_dataset)"
   ]
  },
  {
   "cell_type": "code",
   "execution_count": 49,
   "metadata": {},
   "outputs": [],
   "source": [
    "# Split inputs and targets data\n",
    "inputs_unscaled = balanced_dataset.iloc[:,1:]\n",
    "targets         = balanced_dataset.iloc[:,0]"
   ]
  },
  {
   "cell_type": "markdown",
   "metadata": {},
   "source": [
    "### 2.3 Standardize the inputs"
   ]
  },
  {
   "cell_type": "markdown",
   "metadata": {},
   "source": [
    "\n",
    "Note to self: in future, scale prior to adding dummy variables"
   ]
  },
  {
   "cell_type": "code",
   "execution_count": 50,
   "metadata": {},
   "outputs": [
    {
     "data": {
      "text/plain": [
       "['adr',\n",
       " 'adults',\n",
       " 'babies',\n",
       " 'booking_changes',\n",
       " 'children',\n",
       " 'days_in_waiting_list',\n",
       " 'lead_time',\n",
       " 'previous_bookings_not_canceled',\n",
       " 'previous_cancellations',\n",
       " 'stays_in_week_nights',\n",
       " 'stays_in_weekend_nights',\n",
       " 'total_of_special_requests']"
      ]
     },
     "execution_count": 50,
     "metadata": {},
     "output_type": "execute_result"
    }
   ],
   "source": [
    "# select the columns to omit (All dummy variables)\n",
    "columns_to_omit = ['Region_Americas', 'Region_Asia', 'Region_Europe',\n",
    "       'Region_Oceania', 'Region_Unspecified',\n",
    "       'assigned_room_type_B', 'assigned_room_type_C',\n",
    "       'assigned_room_type_D', 'assigned_room_type_E',\n",
    "       'assigned_room_type_F', 'assigned_room_type_G',\n",
    "       'assigned_room_type_H', 'assigned_room_type_I',\n",
    "       'assigned_room_type_K', 'assigned_room_type_L',\n",
    "       'assigned_room_type_P',\n",
    "       'customer_type_Group', 'customer_type_Transient',\n",
    "       'customer_type_Transient-Party',\n",
    "       'deposit_type_Non Refund', 'deposit_type_Refundable',\n",
    "       'hotel_Resort Hotel', 'is_repeated_guest',\n",
    "       'market_segment_Complementary', 'market_segment_Corporate',\n",
    "       'market_segment_Direct', 'market_segment_Groups',\n",
    "       'market_segment_Offline TA/TO', 'market_segment_Online TA',\n",
    "       'market_segment_Undefined', 'meal_FB', 'meal_HB', 'meal_SC',\n",
    "       'meal_Undefined', 'required_car_parking_spaces',\n",
    "       'reserved_room_type_B', 'reserved_room_type_C',\n",
    "       'reserved_room_type_D', 'reserved_room_type_E',\n",
    "       'reserved_room_type_F', 'reserved_room_type_G',\n",
    "       'reserved_room_type_H', 'reserved_room_type_L',\n",
    "       'reserved_room_type_P']\n",
    "\n",
    "# create the columns to scale, based on the columns to omit\n",
    "# use list comprehension to iterate over the list\n",
    "columns_to_scale = [x for x in inputs_unscaled.columns.values if x not in columns_to_omit]\n",
    "columns_to_scale"
   ]
  },
  {
   "cell_type": "code",
   "execution_count": 51,
   "metadata": {},
   "outputs": [
    {
     "name": "stdout",
     "output_type": "stream",
     "text": [
      "(88448, 44) (88448, 12)\n"
     ]
    }
   ],
   "source": [
    "# Let's separate features to: 'to scale' (or numerical variables) and 'to omit' or (dummy variable)\n",
    "inputs_to_omit = inputs_unscaled[columns_to_omit]\n",
    "\n",
    "inputs_to_scale = inputs_unscaled[columns_to_scale]\n",
    "\n",
    "# Let's observe the split, there should be a lot more columns to omit\n",
    "print(inputs_to_omit.shape,inputs_to_scale.shape)"
   ]
  },
  {
   "cell_type": "code",
   "execution_count": 52,
   "metadata": {},
   "outputs": [],
   "source": [
    "# Now to standardise the inputs, since data of different magnitude (scale) can be biased towards high values.\n",
    "# StandardScaler will be used here, to put all inputs in similar magnitude.\n",
    "from sklearn.preprocessing import StandardScaler\n",
    "\n",
    "# documentation: http://scikit-learn.org/stable/modules/generated/sklearn.preprocessing.StandardScaler.html"
   ]
  },
  {
   "cell_type": "code",
   "execution_count": 53,
   "metadata": {},
   "outputs": [],
   "source": [
    "scaler = StandardScaler()"
   ]
  },
  {
   "cell_type": "code",
   "execution_count": 54,
   "metadata": {},
   "outputs": [
    {
     "data": {
      "text/plain": [
       "StandardScaler(copy=True, with_mean=True, with_std=True)"
      ]
     },
     "execution_count": 54,
     "metadata": {},
     "output_type": "execute_result"
    }
   ],
   "source": [
    "# Scaling just numerical features\n",
    "scaler.fit(inputs_to_scale)"
   ]
  },
  {
   "cell_type": "code",
   "execution_count": 55,
   "metadata": {},
   "outputs": [],
   "source": [
    "scaled_inputs = scaler.transform(inputs_to_scale)"
   ]
  },
  {
   "cell_type": "code",
   "execution_count": 56,
   "metadata": {},
   "outputs": [
    {
     "data": {
      "text/plain": [
       "(88448, 12)"
      ]
     },
     "execution_count": 56,
     "metadata": {},
     "output_type": "execute_result"
    }
   ],
   "source": [
    "scaled_inputs.shape"
   ]
  },
  {
   "cell_type": "code",
   "execution_count": 57,
   "metadata": {
    "scrolled": true
   },
   "outputs": [
    {
     "data": {
      "text/plain": [
       "(88448, 56)"
      ]
     },
     "execution_count": 57,
     "metadata": {},
     "output_type": "execute_result"
    }
   ],
   "source": [
    "# Convert untouched data to a numpy array, then merge the two lists\n",
    "untouched_inputs = inputs_to_omit.to_numpy()\n",
    "\n",
    "inputs = np.concatenate((scaled_inputs,untouched_inputs), axis = 1)\n",
    "\n",
    "inputs.shape"
   ]
  },
  {
   "cell_type": "code",
   "execution_count": 58,
   "metadata": {},
   "outputs": [
    {
     "data": {
      "text/plain": [
       "(88448,)"
      ]
     },
     "execution_count": 58,
     "metadata": {},
     "output_type": "execute_result"
    }
   ],
   "source": [
    "targets.shape"
   ]
  },
  {
   "cell_type": "markdown",
   "metadata": {},
   "source": [
    "### 2.4 Split the data into train & test and shuffle"
   ]
  },
  {
   "cell_type": "markdown",
   "metadata": {},
   "source": [
    "#### Import the relevant module"
   ]
  },
  {
   "cell_type": "code",
   "execution_count": 59,
   "metadata": {},
   "outputs": [],
   "source": [
    "# import train_test_split so we can split our data into train and test\n",
    "from sklearn.model_selection import train_test_split"
   ]
  },
  {
   "cell_type": "code",
   "execution_count": 60,
   "metadata": {},
   "outputs": [],
   "source": [
    "# declare 4 variables for the split\n",
    "# Setting an integer to random_state here to make the shuffle pseudo random, so that observations will always be shuffled in the same random way.\n",
    "\n",
    "x_train, x_test, y_train, y_test = train_test_split(inputs, targets, #train_size = 0.8, \n",
    "                                                                            test_size = 0.2, random_state = 20)"
   ]
  },
  {
   "cell_type": "code",
   "execution_count": 61,
   "metadata": {},
   "outputs": [
    {
     "name": "stdout",
     "output_type": "stream",
     "text": [
      "(70758, 56) (70758,)\n"
     ]
    }
   ],
   "source": [
    "# check the shape of the train inputs and targets\n",
    "print (x_train.shape, y_train.shape)"
   ]
  },
  {
   "cell_type": "code",
   "execution_count": 62,
   "metadata": {},
   "outputs": [
    {
     "name": "stdout",
     "output_type": "stream",
     "text": [
      "(17690, 56) (17690,)\n"
     ]
    }
   ],
   "source": [
    "# check the shape of the test inputs and targets\n",
    "print (x_test.shape, y_test.shape)"
   ]
  },
  {
   "cell_type": "markdown",
   "metadata": {},
   "source": [
    "######  "
   ]
  },
  {
   "cell_type": "markdown",
   "metadata": {},
   "source": [
    "# 3. Applying Bi-Predict Model(s)"
   ]
  },
  {
   "cell_type": "markdown",
   "metadata": {},
   "source": [
    "## 3.1 Logistic Regression"
   ]
  },
  {
   "cell_type": "code",
   "execution_count": 63,
   "metadata": {},
   "outputs": [],
   "source": [
    "# import the linear regression 'LogReg' model from sklearn\n",
    "from sklearn.linear_model import LogisticRegression\n",
    "\n",
    "# import the 'metrics' module, which includes important metrics\n",
    "from sklearn import metrics"
   ]
  },
  {
   "cell_type": "code",
   "execution_count": 147,
   "metadata": {},
   "outputs": [],
   "source": [
    "# create confusion matrix visualisation function.\n",
    "# this function will create sklearn Confusion Matrix cm using a Seaborn heatmap visualization.\n",
    "def make_confusion_matrix(cf,\n",
    "                          group_names=None,\n",
    "                          categories='auto',\n",
    "                          count=True,\n",
    "                          percent=True,\n",
    "                          cbar=True,\n",
    "                          xyticks=True,\n",
    "                          xyplotlabels=True,\n",
    "                          sum_stats=True,\n",
    "                          figsize=None,\n",
    "                          cmap='Blues',\n",
    "                          title=None):\n",
    "    '''\n",
    "    Arguments\n",
    "    ---------\n",
    "    cf:            confusion matrix to be passed in\n",
    "    group_names:   List of strings that represent the labels row by row to be shown in each square.\n",
    "    categories:    List of strings containing the categories to be displayed on the x,y axis. Default is 'auto'\n",
    "    count:         If True, show the raw number in the confusion matrix. Default is True.\n",
    "    normalize:     If True, show the proportions for each category. Default is True.\n",
    "    cbar:          If True, show the color bar. The cbar values are based off the values in the confusion matrix.\n",
    "                   Default is True.\n",
    "    xyticks:       If True, show x and y ticks. Default is True.\n",
    "    xyplotlabels:  If True, show 'True Label' and 'Predicted Label' on the figure. Default is True.\n",
    "    sum_stats:     If True, display summary statistics below the figure. Default is True.\n",
    "    figsize:       Tuple representing the figure size. Default will be the matplotlib rcParams value.\n",
    "    cmap:          Colormap of the values displayed from matplotlib.pyplot.cm. Default is 'Blues'\n",
    "                   See http://matplotlib.org/examples/color/colormaps_reference.html\n",
    "                   \n",
    "    title:         Title for the heatmap. Default is None.\n",
    "    '''\n",
    "\n",
    "\n",
    "    # CODE TO GENERATE TEXT INSIDE EACH SQUARE\n",
    "    blanks = ['' for i in range(cf.size)]\n",
    "\n",
    "    if group_names and len(group_names)==cf.size:\n",
    "        group_labels = [\"{}\\n\".format(value) for value in group_names]\n",
    "    else:\n",
    "        group_labels = blanks\n",
    "\n",
    "    if count:\n",
    "        group_counts = [\"{0:0.0f}\\n\".format(value) for value in cf.flatten()]\n",
    "    else:\n",
    "        group_counts = blanks\n",
    "\n",
    "    if percent:\n",
    "        group_percentages = [\"{0:.2%}\".format(value) for value in cf.flatten()/np.sum(cf)]\n",
    "    else:\n",
    "        group_percentages = blanks\n",
    "\n",
    "    box_labels = [f\"{v1}{v2}{v3}\".strip() for v1, v2, v3 in zip(group_labels,group_counts,group_percentages)]\n",
    "    box_labels = np.asarray(box_labels).reshape(cf.shape[0],cf.shape[1])\n",
    "\n",
    "\n",
    "    # CODE TO GENERATE SUMMARY STATISTICS & TEXT FOR SUMMARY STATS\n",
    "    if sum_stats:\n",
    "        #Accuracy is sum of diagonal divided by total observations\n",
    "        accuracy  = np.trace(cf) / float(np.sum(cf))\n",
    "\n",
    "        #if it is a binary confusion matrix, show some more stats\n",
    "        if len(cf)==2:\n",
    "            #Metrics for Binary Confusion Matrices\n",
    "            precision = cf[1,1] / sum(cf[:,1])\n",
    "            recall    = cf[1,1] / sum(cf[1,:])\n",
    "            f1_score  = 2*precision*recall / (precision + recall)\n",
    "            stats_text = \"\\n\\nAccuracy={:0.4f}\\nPrecision={:0.4}\\nRecall={:0.4}\\nF1 Score={:0.4}\".format(\n",
    "                accuracy,precision,recall,f1_score)\n",
    "        else:\n",
    "            stats_text = \"\\n\\nAccuracy={:0.4f}\".format(accuracy)\n",
    "    else:\n",
    "        stats_text = \"\"\n",
    "\n",
    "\n",
    "    # SET FIGURE PARAMETERS ACCORDING TO OTHER ARGUMENTS\n",
    "    if figsize==None:\n",
    "        #Get default figure size if not set\n",
    "        figsize = plt.rcParams.get('figure.figsize')\n",
    "\n",
    "    if xyticks==False:\n",
    "        #Do not show categories if xyticks is False\n",
    "        categories=False\n",
    "\n",
    "\n",
    "    # MAKE THE HEATMAP VISUALIZATION\n",
    "    plt.figure(figsize=figsize)\n",
    "    sns.heatmap(cf,annot=box_labels,fmt=\"\",cmap=cmap,cbar=cbar,xticklabels=categories,yticklabels=categories)\n",
    "\n",
    "    if xyplotlabels:\n",
    "        plt.ylabel('True label')\n",
    "        plt.xlabel('Predicted label' + stats_text)\n",
    "    else:\n",
    "        plt.xlabel(stats_text)\n",
    "    \n",
    "    if title:\n",
    "        plt.title(title)"
   ]
  },
  {
   "cell_type": "markdown",
   "metadata": {},
   "source": [
    "### 3.1.1 Training the model"
   ]
  },
  {
   "cell_type": "code",
   "execution_count": 64,
   "metadata": {},
   "outputs": [
    {
     "name": "stderr",
     "output_type": "stream",
     "text": [
      "/opt/anaconda3/envs/py3-TF2.0/lib/python3.7/site-packages/sklearn/linear_model/_logistic.py:940: ConvergenceWarning: lbfgs failed to converge (status=1):\n",
      "STOP: TOTAL NO. of ITERATIONS REACHED LIMIT.\n",
      "\n",
      "Increase the number of iterations (max_iter) or scale the data as shown in:\n",
      "    https://scikit-learn.org/stable/modules/preprocessing.html\n",
      "Please also refer to the documentation for alternative solver options:\n",
      "    https://scikit-learn.org/stable/modules/linear_model.html#logistic-regression\n",
      "  extra_warning_msg=_LOGISTIC_SOLVER_CONVERGENCE_MSG)\n"
     ]
    },
    {
     "data": {
      "text/plain": [
       "0.8027078210237711"
      ]
     },
     "execution_count": 64,
     "metadata": {},
     "output_type": "execute_result"
    }
   ],
   "source": [
    "# Create a logistic regression object\n",
    "reg = LogisticRegression()\n",
    "\n",
    "# Fit the train inputs\n",
    "reg.fit(x_train,y_train)\n",
    "\n",
    "# Assess the train accuracy of the model\n",
    "reg.score(x_train,y_train)"
   ]
  },
  {
   "cell_type": "code",
   "execution_count": 65,
   "metadata": {
    "scrolled": true
   },
   "outputs": [],
   "source": [
    "# save the names of the columns in an ad-hoc variable\n",
    "a = pd.Series(inputs_to_omit.columns.values)\n",
    "b = pd.Series(inputs_to_scale.columns.values)\n",
    "feature_name = pd.concat([a,b], ignore_index= True)"
   ]
  },
  {
   "cell_type": "code",
   "execution_count": 66,
   "metadata": {},
   "outputs": [],
   "source": [
    "# transpose the model coefficients (model.coef_) and throws them into a df (a vertical setup, so that they could be\n",
    "# multiplied by certain matrices later) \n",
    "summary_table = pd.DataFrame (columns=['Feature name'], data = feature_name)\n",
    "\n",
    "# add the coefficient values to the summary table\n",
    "summary_table['Coefficient'] = np.transpose(reg.coef_)\n",
    "\n",
    "# display the summary table\n",
    "#summary_table"
   ]
  },
  {
   "cell_type": "code",
   "execution_count": 67,
   "metadata": {},
   "outputs": [],
   "source": [
    "# save the names of the columns in an ad-hoc variable\n",
    "a = pd.Series(inputs_to_omit.columns.values)\n",
    "b = pd.Series(inputs_to_scale.columns.values)\n",
    "feature_name = pd.concat([a,b], ignore_index= True)\n",
    "\n",
    "# transpose the model coefficients (model.coef_) and throws them into a df (a vertical setup, so that they could be\n",
    "# multiplied by certain matrices later) \n",
    "summary_table = pd.DataFrame (columns=['Feature name'], data = feature_name)\n",
    "\n",
    "# add the coefficient values to the summary table\n",
    "summary_table['Coefficient'] = np.transpose(reg.coef_)\n",
    "\n",
    "# display the summary table\n",
    "#summary_table"
   ]
  },
  {
   "cell_type": "code",
   "execution_count": 68,
   "metadata": {},
   "outputs": [],
   "source": [
    "# Python trick to move the intercept to the top of the summary table\n",
    "# move all indices by 1\n",
    "summary_table.index = summary_table.index + 1\n",
    "\n",
    "# add the intercept at index 0\n",
    "summary_table.loc[0] = ['Intercept', reg.intercept_[0]]\n",
    "\n",
    "# sort the df by index\n",
    "summary_table = summary_table.sort_index()"
   ]
  },
  {
   "cell_type": "markdown",
   "metadata": {},
   "source": [
    "### 3.1.2 Interpreting the coefficients"
   ]
  },
  {
   "cell_type": "code",
   "execution_count": 69,
   "metadata": {
    "scrolled": false
   },
   "outputs": [],
   "source": [
    "# Create a new Series called: 'Odds ratio' which will show the.. odds ratio of each feature\n",
    "summary_table['Odds_ratio'] = np.exp(summary_table.Coefficient)\n"
   ]
  },
  {
   "cell_type": "code",
   "execution_count": 109,
   "metadata": {
    "scrolled": true
   },
   "outputs": [],
   "source": [
    "# Sort the table according to odds ratio\n",
    "summary_table = summary_table.sort_values('Odds_ratio', ascending=False).reset_index(drop=True)"
   ]
  },
  {
   "cell_type": "code",
   "execution_count": 111,
   "metadata": {
    "scrolled": false
   },
   "outputs": [
    {
     "data": {
      "text/plain": [
       "Text(0.5, 1.0, 'Feature Coefficients')"
      ]
     },
     "execution_count": 111,
     "metadata": {},
     "output_type": "execute_result"
    },
    {
     "data": {
      "image/png": "[encoded data removed]",
      "text/plain": [
       "<Figure size 720x720 with 1 Axes>"
      ]
     },
     "metadata": {},
     "output_type": "display_data"
    }
   ],
   "source": [
    "fig, ax = plt.subplots(figsize=(10,10))\n",
    "sns.barplot(x='Coefficient', y='Feature name', data=summary_table, ax=ax)\n",
    "plt.title('Feature Coefficients', size = 18)"
   ]
  },
  {
   "cell_type": "code",
   "execution_count": 112,
   "metadata": {
    "scrolled": false
   },
   "outputs": [
    {
     "data": {
      "text/plain": [
       "Text(0.5, 1.0, 'Feature Odds Ratio')"
      ]
     },
     "execution_count": 112,
     "metadata": {},
     "output_type": "execute_result"
    },
    {
     "data": {
      "image/png": "[encoded data removed]",
      "text/plain": [
       "<Figure size 720x720 with 1 Axes>"
      ]
     },
     "metadata": {},
     "output_type": "display_data"
    }
   ],
   "source": [
    "fig, ax = plt.subplots(figsize=(10,10))\n",
    "sns.barplot(x='Odds_ratio', y='Feature name', data=summary_table, ax=ax)\n",
    "plt.title('Feature Odds Ratio', size = 18)"
   ]
  },
  {
   "cell_type": "code",
   "execution_count": null,
   "metadata": {
    "scrolled": false
   },
   "outputs": [],
   "source": [
    "summary_table"
   ]
  },
  {
   "cell_type": "markdown",
   "metadata": {},
   "source": [
    "Given the context of this model, the charts/table above shows the weight/importance of each for each feature, with values close to 0 (regardless of being positive or negative) weighting less. In other words, When a feature coefficient is bigger, its corresponding feature is more important.\n",
    "\n",
    "Therefore, a feature is not particularly important:\n",
    "\n",
    "    *if its coefficient is around 0 (a weight of zero implies that no matter the feature value we will multiply it by 0 and the whole result will be zero.)\n",
    "    \n",
    "    *if its odd ratio is around 1 (For one unit change in the standardized feature the odds increase by a multiple equal to the odds ratio. So if the odds ratio is one then the odds don't change at all.)\n",
    "\n",
    "\n",
    "\n",
    "The most important feature for this model is 'days spent in waiting list'. There isn't a direct interpretability of it due to the fact that it's a numerical feature that has been standardised. Its odds ratio implies that for\n",
    "one standardised unit or for one standard deviation increase in days spent in waiting list, it's 7 times more likely to cancel their bookings. Which isn't much of a surpise as customer could and have the option to book elsewhere.\n",
    "\n",
    "The second most important is 'Transient customers', which is dummy feature, therefore there is a direct interpretability. Its odds ratio implies that a transient customer is approximately 3 times more likely to cancel their bookings.\n",
    "\n",
    "for weekends nights booked, which has a negative coefficient, it can be said that for one standardised unit or for one standard deviation increase in weekend booking, the odds ratio are (1-0.85) or 15% lower than the base model (no weekend stay), i.e. lower chance of cancelling."
   ]
  },
  {
   "cell_type": "markdown",
   "metadata": {},
   "source": [
    " \n",
    "\n",
    " "
   ]
  },
  {
   "cell_type": "markdown",
   "metadata": {},
   "source": [
    " ##### We could proceed from here and perform backward elimination wherein useless features are removed from the model. This option is however optional as it makes very little or no difference to the model. It does however simplify the model by having a lower number of coefficients used.\n",
    " \n",
    " \n",
    " "
   ]
  },
  {
   "cell_type": "markdown",
   "metadata": {},
   "source": [
    " \n",
    "\n",
    " "
   ]
  },
  {
   "cell_type": "markdown",
   "metadata": {},
   "source": [
    "### 3.1.3 Testing the model"
   ]
  },
  {
   "cell_type": "code",
   "execution_count": 130,
   "metadata": {},
   "outputs": [],
   "source": [
    "cf_matrix = metrics.confusion_matrix(y_test, reg.predict(x_test))"
   ]
  },
  {
   "cell_type": "code",
   "execution_count": 150,
   "metadata": {
    "scrolled": true
   },
   "outputs": [
    {
     "data": {
      "image/png": "[encoded data removed]",
      "text/plain": [
       "<Figure size 432x288 with 2 Axes>"
      ]
     },
     "metadata": {},
     "output_type": "display_data"
    }
   ],
   "source": [
    "labels = ['True Neg','False Pos','False Neg','True Pos']\n",
    "categories = ['Checked-in','Cancelled']\n",
    "make_confusion_matrix(cf_matrix, \n",
    "                      #group_names=labels,\n",
    "                      categories=categories, \n",
    "                      #percent=False,\n",
    "                      cmap='Blues')"
   ]
  },
  {
   "cell_type": "markdown",
   "metadata": {},
   "source": [
    "The regression model has learned to accurately predict 80% of the observations. in other words, it was able to accurately say whether a booking will be cancelled in future in 4 out of 5 cases. \n"
   ]
  },
  {
   "cell_type": "markdown",
   "metadata": {},
   "source": [
    "## 3.2 Neural Network"
   ]
  },
  {
   "cell_type": "markdown",
   "metadata": {},
   "source": [
    "### 3.2.1 Splitting data for NN - Train, Validation, and Test"
   ]
  },
  {
   "cell_type": "code",
   "execution_count": 151,
   "metadata": {},
   "outputs": [],
   "source": [
    "# train/test split\n",
    "x_train, x_test, y_train, y_test = train_test_split(inputs, targets, #train_size = 0.8, \n",
    "                                                                            test_size = 0.1, random_state = 20)"
   ]
  },
  {
   "cell_type": "code",
   "execution_count": 152,
   "metadata": {},
   "outputs": [],
   "source": [
    "# train/validation split\n",
    "x_train, x_val, y_train, y_val = train_test_split(x_train, y_train, #train_size = 0.8, \n",
    "                                                                            test_size = 0.11, random_state = 20)"
   ]
  },
  {
   "cell_type": "code",
   "execution_count": 153,
   "metadata": {},
   "outputs": [
    {
     "name": "stdout",
     "output_type": "stream",
     "text": [
      "(70846, 56) (70846,)\n"
     ]
    }
   ],
   "source": [
    "# check the shape of the train inputs and targets\n",
    "print (x_train.shape, y_train.shape)"
   ]
  },
  {
   "cell_type": "code",
   "execution_count": 154,
   "metadata": {},
   "outputs": [
    {
     "name": "stdout",
     "output_type": "stream",
     "text": [
      "(8757, 56) (8757,)\n"
     ]
    }
   ],
   "source": [
    "# check the shape of the test inputs and targets\n",
    "print (x_val.shape, y_val.shape)"
   ]
  },
  {
   "cell_type": "code",
   "execution_count": 155,
   "metadata": {},
   "outputs": [
    {
     "name": "stdout",
     "output_type": "stream",
     "text": [
      "(8845, 56) (8845,)\n"
     ]
    }
   ],
   "source": [
    "# check the shape of the test inputs and targets\n",
    "print (x_test.shape, y_test.shape)"
   ]
  },
  {
   "cell_type": "code",
   "execution_count": 156,
   "metadata": {},
   "outputs": [],
   "source": [
    "x_train, x_val, x_test = x_train.astype(float), x_val.astype(float), x_test.astype(float)"
   ]
  },
  {
   "cell_type": "code",
   "execution_count": 157,
   "metadata": {},
   "outputs": [],
   "source": [
    "# Save the three datasets in *.npz.\n",
    "\n",
    "np.savez('Hotel_data_train', inputs=x_train, targets=y_train)\n",
    "np.savez('Hotel_data_validation', inputs=x_val, targets=y_val)\n",
    "np.savez('Hotel_data_test', inputs=x_test, targets=y_test)"
   ]
  },
  {
   "cell_type": "code",
   "execution_count": 158,
   "metadata": {},
   "outputs": [],
   "source": [
    "npz = np.load('Hotel_data_train.npz')\n",
    "train_inputs, train_targets = npz['inputs'].astype(np.float), npz['targets'].astype(np.int)\n",
    "\n",
    "npz = np.load('Hotel_data_validation.npz')\n",
    "validation_inputs, validation_targets = npz['inputs'].astype(np.float), npz['targets'].astype(np.int)\n",
    "\n",
    "npz = np.load('Hotel_data_test.npz')\n",
    "test_inputs, test_targets = npz['inputs'].astype(np.float), npz['targets'].astype(np.int)"
   ]
  },
  {
   "cell_type": "markdown",
   "metadata": {},
   "source": [
    "### 3.2.2 Training the NN Model"
   ]
  },
  {
   "cell_type": "markdown",
   "metadata": {},
   "source": [
    "Outline, optimizers, loss, early stopping and training"
   ]
  },
  {
   "cell_type": "code",
   "execution_count": 159,
   "metadata": {},
   "outputs": [],
   "source": [
    "import tensorflow as tf"
   ]
  },
  {
   "cell_type": "code",
   "execution_count": 233,
   "metadata": {
    "scrolled": true
   },
   "outputs": [
    {
     "name": "stdout",
     "output_type": "stream",
     "text": [
      "Train on 70846 samples, validate on 8757 samples\n",
      "Epoch 1/100\n",
      "70846/70846 - 2s - loss: 0.7486 - accuracy: 0.7673 - val_loss: 0.4504 - val_accuracy: 0.7980\n",
      "Epoch 2/100\n",
      "70846/70846 - 2s - loss: 0.3935 - accuracy: 0.8147 - val_loss: 0.3889 - val_accuracy: 0.8152\n",
      "Epoch 3/100\n",
      "70846/70846 - 2s - loss: 0.3701 - accuracy: 0.8222 - val_loss: 0.3852 - val_accuracy: 0.8123\n",
      "Epoch 4/100\n",
      "70846/70846 - 2s - loss: 0.3578 - accuracy: 0.8297 - val_loss: 0.3576 - val_accuracy: 0.8263\n",
      "Epoch 5/100\n",
      "70846/70846 - 2s - loss: 0.3480 - accuracy: 0.8331 - val_loss: 0.3437 - val_accuracy: 0.8364\n",
      "Epoch 6/100\n",
      "70846/70846 - 2s - loss: 0.3416 - accuracy: 0.8361 - val_loss: 0.3443 - val_accuracy: 0.8384\n",
      "Epoch 7/100\n",
      "70846/70846 - 2s - loss: 0.3343 - accuracy: 0.8398 - val_loss: 0.3394 - val_accuracy: 0.8380\n",
      "Epoch 8/100\n",
      "70846/70846 - 2s - loss: 0.3285 - accuracy: 0.8445 - val_loss: 0.3328 - val_accuracy: 0.8430\n",
      "Epoch 9/100\n",
      "70846/70846 - 2s - loss: 0.3244 - accuracy: 0.8451 - val_loss: 0.3327 - val_accuracy: 0.8458\n",
      "Epoch 10/100\n",
      "70846/70846 - 2s - loss: 0.3195 - accuracy: 0.8496 - val_loss: 0.3265 - val_accuracy: 0.8471\n",
      "Epoch 11/100\n",
      "70846/70846 - 2s - loss: 0.3147 - accuracy: 0.8516 - val_loss: 0.3277 - val_accuracy: 0.8490\n",
      "Epoch 12/100\n",
      "70846/70846 - 2s - loss: 0.3093 - accuracy: 0.8550 - val_loss: 0.3266 - val_accuracy: 0.8533\n"
     ]
    },
    {
     "data": {
      "text/plain": [
       "<tensorflow.python.keras.callbacks.History at 0x7f8ca3a20690>"
      ]
     },
     "execution_count": 233,
     "metadata": {},
     "output_type": "execute_result"
    }
   ],
   "source": [
    "# Set the input and output sizes\n",
    "input_size = 56\n",
    "output_size = 2\n",
    "# Use same hidden layer size for all hidden layers. Not a necessity.\n",
    "hidden_layer_size = 800 \n",
    "    \n",
    "# Defining the model for the problem \n",
    "model = tf.keras.Sequential([\n",
    "    # tf.keras.layers.Dense is basically implementing: output = activation(dot(input, weight) + bias)\n",
    "    # it takes several arguments, but the most important ones for us are the hidden_layer_size and the activation function\n",
    "    tf.keras.layers.Dense(hidden_layer_size, activation='relu'), # 1st hidden layer\n",
    "    #tf.keras.layers.Dense(hidden_layer_size, activation='relu'), # 2nd hidden layer\n",
    "    tf.keras.layers.Dense(hidden_layer_size, activation='relu'), # 3rd hidden layer \n",
    "    #tf.keras.layers.Dense(hidden_layer_size, activation='sigmoid'), # 4th hidden layer \n",
    "    #tf.keras.layers.Dense(hidden_layer_size, activation='sigmoid'), # 5th hidden layer \n",
    "    # the final layer is activated with softmax\n",
    "    tf.keras.layers.Dense(output_size, activation='softmax') # output layer\n",
    "])\n",
    "\n",
    "\n",
    "### Choosing the optimizer and the loss function:\n",
    "\n",
    "# preferred optimizer to use is Adaptive Moment Estimation (adam) , as it's one of the best optimiser available.\n",
    "# the loss function, \n",
    "# and the metrics we are interested in obtaining at each iteration\n",
    "model.compile(optimizer='adam', loss='sparse_categorical_crossentropy', metrics=['accuracy'])\n",
    "\n",
    "\n",
    "### Training the model:\n",
    "\n",
    "# set the batch size\n",
    "batch_size = 100\n",
    "\n",
    "# set a maximum number of training epochs\n",
    "max_epochs = 100\n",
    "\n",
    "# setting an early stopping mechanism, with patience=2, to be a bit tolerant against random validation loss increases\n",
    "early_stopping = tf.keras.callbacks.EarlyStopping(patience=2)\n",
    "\n",
    "# fit the model\n",
    "# note that this time the train, validation and test data are not iterable\n",
    "model.fit(train_inputs, # train inputs\n",
    "          train_targets, # train targets\n",
    "          batch_size=batch_size, # batch size\n",
    "          epochs=max_epochs, # epochs that we will train for (assuming early stopping doesn't kick in)\n",
    "          # callbacks are functions called by a task when a task is completed\n",
    "          # task here is to check if val_loss is increasing\n",
    "          callbacks=[early_stopping], # early stopping\n",
    "          validation_data=(validation_inputs, validation_targets), # validation data\n",
    "          verbose = 2 # getting essential information about the training process\n",
    "          )  "
   ]
  },
  {
   "cell_type": "markdown",
   "metadata": {},
   "source": [
    "After fine tuning the hyperparameters of the model, the validation accuracy was improved to 85 per cent.  \n",
    "\n",
    " "
   ]
  },
  {
   "cell_type": "markdown",
   "metadata": {},
   "source": [
    " \n",
    "\n",
    " "
   ]
  },
  {
   "cell_type": "markdown",
   "metadata": {},
   "source": [
    "### 3.2.3 Test the model\n",
    "\n",
    "The last step here is to test the final prediction power of the model by fitting it on the test dataset that the algorithm isn't familiar. As adjusting the hyperparameters after applying the model on test data would lead to overfitting. \n",
    "\n",
    "Consequently, this is the absolute final instance, because adjusting the model afterwards will start overfitting the test dataset and defeat its purpose."
   ]
  },
  {
   "cell_type": "code",
   "execution_count": 234,
   "metadata": {
    "scrolled": false
   },
   "outputs": [
    {
     "name": "stdout",
     "output_type": "stream",
     "text": [
      "8845/8845 [==============================] - 0s 27us/sample - loss: 0.3163 - accuracy: 0.8559\n"
     ]
    }
   ],
   "source": [
    "test_loss, test_accuracy = model.evaluate(test_inputs, test_targets)"
   ]
  },
  {
   "cell_type": "code",
   "execution_count": 235,
   "metadata": {
    "scrolled": true
   },
   "outputs": [
    {
     "name": "stdout",
     "output_type": "stream",
     "text": [
      "\n",
      "Test loss: 0.32. Test accuracy: 85.59%\n"
     ]
    }
   ],
   "source": [
    "print('\\nTest loss: {0:.2f}. Test accuracy: {1:.2f}%'.format(test_loss, test_accuracy*100.))"
   ]
  },
  {
   "cell_type": "code",
   "execution_count": 243,
   "metadata": {},
   "outputs": [
    {
     "data": {
      "image/png": "[encoded data removed]",
      "text/plain": [
       "<Figure size 648x360 with 1 Axes>"
      ]
     },
     "metadata": {},
     "output_type": "display_data"
    }
   ],
   "source": [
    "classifier = ['Logistic Model','NN Model']\n",
    "accuracy = [0.8012,0.8559]\n",
    "\n",
    "fig, ax = plt.subplots(figsize=(9,5))\n",
    "plt.barh(classifier, accuracy, height = 0.6)\n",
    "ax.set_xlim([0, 1])\n",
    "\n",
    "plt.gca().set_xticklabels(['{:.0f}%'.format(accuracy*100) for accuracy in plt.gca().get_xticks()])\n",
    "plt.xlabel('Accuracy %') \n",
    "plt.ylabel('Classifier') \n",
    "plt.title('Classifier Accuracy', size=18)\n",
    "plt.show()"
   ]
  },
  {
   "cell_type": "markdown",
   "metadata": {},
   "source": [
    "The final prediction power of NN model is 85.59 per cent, which is an improvement to the regression model with its final prediction power of 80.12 per cent.\n",
    "\n",
    "To summarise this project, it all began by identifying a problem/setting objective, and the objective here was to be able to predict a booking final outcome given a customer profile.\n",
    "\n",
    "The project started by conducting an exploratory data analysis, which allowed to gain a better understanding of the data by identifying the underlying trend within the data.\n",
    "\n",
    "This was followed by preprocessing or (feature engineering) step, with the aim selecting appropriate features, and converting these features to a suitable format for applying model(s).\n",
    "\n",
    "The final step was to select and apply Bi-predict models suitable for the problem of this project, which were Logistic Regression and Neural Network Models.\n",
    "\n",
    "The concluding observation following the application of the models in here was that Neural Network model performed slightly better in comparison to Logistic Regression model when applied to new and unseen (test) dataset, with  prediction accuracy of just over 85 per cent (for Neural Network), while the Logistic Regression provided a prediction accuracy of just over 80 per cent."
   ]
  },
  {
   "cell_type": "code",
   "execution_count": null,
   "metadata": {},
   "outputs": [],
   "source": []
  }
 ],
 "metadata": {
  "kernelspec": {
   "display_name": "Python [conda env:py3-TF2.0]",
   "language": "python",
   "name": "conda-env-py3-TF2.0-py"
  },
  "language_info": {
   "codemirror_mode": {
    "name": "ipython",
    "version": 3
   },
   "file_extension": ".py",
   "mimetype": "text/x-python",
   "name": "python",
   "nbconvert_exporter": "python",
   "pygments_lexer": "ipython3",
   "version": "3.7.6"
  }
 },
 "nbformat": 4,
 "nbformat_minor": 2
}
